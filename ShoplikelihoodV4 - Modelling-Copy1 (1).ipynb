{
 "cells": [
  {
   "cell_type": "markdown",
   "id": "fe1a0475-329f-4a54-9bf9-3c819fd07c5f",
   "metadata": {
    "tags": []
   },
   "source": [
    "## ShoplikelihoodV4 Model"
   ]
  },
  {
   "cell_type": "code",
   "execution_count": 1,
   "id": "ae7f8ab5-4cc2-45f2-b253-ae15ca7e4391",
   "metadata": {
    "tags": []
   },
   "outputs": [
    {
     "name": "stdout",
     "output_type": "stream",
     "text": [
      "Requirement already satisfied: xgboost in /opt/conda/lib/python3.10/site-packages (3.0.5)\n",
      "Requirement already satisfied: lightgbm in /opt/conda/lib/python3.10/site-packages (4.6.0)\n",
      "Requirement already satisfied: shap in /opt/conda/lib/python3.10/site-packages (0.48.0)\n",
      "Requirement already satisfied: numpy in /opt/conda/lib/python3.10/site-packages (from xgboost) (2.1.3)\n",
      "Requirement already satisfied: nvidia-nccl-cu12 in /opt/conda/lib/python3.10/site-packages (from xgboost) (2.28.3)\n",
      "Requirement already satisfied: scipy in /opt/conda/lib/python3.10/site-packages (from xgboost) (1.15.3)\n",
      "Requirement already satisfied: scikit-learn in /opt/conda/lib/python3.10/site-packages (from shap) (1.7.0)\n",
      "Requirement already satisfied: pandas in /opt/conda/lib/python3.10/site-packages (from shap) (2.3.1)\n",
      "Requirement already satisfied: tqdm>=4.27.0 in /opt/conda/lib/python3.10/site-packages (from shap) (4.67.1)\n",
      "Requirement already satisfied: packaging>20.9 in /opt/conda/lib/python3.10/site-packages (from shap) (25.0)\n",
      "Requirement already satisfied: slicer==0.0.8 in /opt/conda/lib/python3.10/site-packages (from shap) (0.0.8)\n",
      "Requirement already satisfied: numba>=0.54 in /opt/conda/lib/python3.10/site-packages (from shap) (0.61.0)\n",
      "Requirement already satisfied: cloudpickle in /opt/conda/lib/python3.10/site-packages (from shap) (3.1.1)\n",
      "Requirement already satisfied: typing-extensions in /opt/conda/lib/python3.10/site-packages (from shap) (4.14.1)\n",
      "Requirement already satisfied: llvmlite<0.45,>=0.44.0dev0 in /opt/conda/lib/python3.10/site-packages (from numba>=0.54->shap) (0.44.0)\n",
      "Requirement already satisfied: python-dateutil>=2.8.2 in /opt/conda/lib/python3.10/site-packages (from pandas->shap) (2.9.0.post0)\n",
      "Requirement already satisfied: pytz>=2020.1 in /opt/conda/lib/python3.10/site-packages (from pandas->shap) (2025.2)\n",
      "Requirement already satisfied: tzdata>=2022.7 in /opt/conda/lib/python3.10/site-packages (from pandas->shap) (2025.2)\n",
      "Requirement already satisfied: six>=1.5 in /opt/conda/lib/python3.10/site-packages (from python-dateutil>=2.8.2->pandas->shap) (1.17.0)\n",
      "Requirement already satisfied: joblib>=1.2.0 in /opt/conda/lib/python3.10/site-packages (from scikit-learn->shap) (1.5.1)\n",
      "Requirement already satisfied: threadpoolctl>=3.1.0 in /opt/conda/lib/python3.10/site-packages (from scikit-learn->shap) (3.6.0)\n"
     ]
    }
   ],
   "source": [
    "!pip install xgboost lightgbm shap"
   ]
  },
  {
   "cell_type": "code",
   "execution_count": 43,
   "id": "683ad1da-531c-40b8-b112-0b1513cdb474",
   "metadata": {
    "tags": []
   },
   "outputs": [],
   "source": [
    "!pip install catboost>=1.2"
   ]
  },
  {
   "cell_type": "code",
   "execution_count": 2,
   "id": "6a34dae4-87be-4443-abfa-9e51d452b1f0",
   "metadata": {
    "tags": []
   },
   "outputs": [],
   "source": [
    "import logging\n",
    "import sys\n",
    "import os\n",
    "from google.cloud import bigquery\n",
    "from pyarrow import parquet\n",
    "import gcsfs\n",
    "import pandas as pd\n",
    "from sklearn.model_selection import train_test_split\n",
    "from sklearn.metrics import classification_report, roc_auc_score, precision_recall_curve\n",
    "\n",
    "import json\n",
    "import numpy as np\n",
    "from joblib import dump\n",
    "import time\n",
    "from functools import partial\n",
    "from xgboost import XGBClassifier\n",
    "from lightgbm import LGBMClassifier, early_stopping\n",
    "from sklearn.preprocessing import StandardScaler\n",
    "from sklearn.compose import ColumnTransformer\n",
    "import shap\n",
    "from scipy.special import expit  # Sigmoid function\n",
    "from datetime import datetime"
   ]
  },
  {
   "cell_type": "markdown",
   "id": "e5dca0fd-1541-4da4-8654-a9d4c8bd5e26",
   "metadata": {},
   "source": [
    "### Functions"
   ]
  },
  {
   "cell_type": "code",
   "execution_count": 3,
   "id": "eab10b3e-2237-4d7d-ad97-28ec1efa7e2c",
   "metadata": {
    "tags": []
   },
   "outputs": [],
   "source": [
    "# Set up logging configuration\n",
    "logging.basicConfig(\n",
    "    level=logging.INFO,\n",
    "    format='%(asctime)s - %(levelname)s - %(message)s',\n",
    "    handlers=[\n",
    "        logging.StreamHandler(sys.stdout)\n",
    "    ]\n",
    ")\n",
    "\n",
    "\n",
    "logger = logging.getLogger(__name__)"
   ]
  },
  {
   "cell_type": "code",
   "execution_count": 91,
   "id": "d3d01554-f028-4dc9-9c60-ac91b6995dcd",
   "metadata": {
    "tags": []
   },
   "outputs": [],
   "source": [
    "def load_from_bigquery(query, bq_client):\n",
    "    return bq_client.query(query).to_dataframe()\n",
    "\n",
    "\n",
    "def load_reco_reference_df(bq_client):\n",
    "    print(\"Loading deal week reference table...\")\n",
    "    query = \"\"\" \n",
    "    SELECT \n",
    "        start_date, \n",
    "        end_date, \n",
    "        deal_yr, \n",
    "        deal_wk,\n",
    "        CONCAT(CAST(deal_yr AS STRING), '_3', LPAD(CAST(deal_wk AS STRING), 2, '0')) AS week_identifier,\n",
    "        deal_season_num\n",
    "    from `dp-lore.loyalty_reco.prd_slpv3_date_ref` \n",
    "    \"\"\"\n",
    "    return load_from_bigquery(query=query, bq_client=bq_client)\n",
    "\n",
    "def rename_pivot_columns(pivoted_df, reco_reference_pd, current_week_identifier, suffix:str, removal_cols:list=None):\n",
    "    logger.info(f\"Renaming pivoted columns with suffix '{suffix}'\")\n",
    "    col_reference = {}\n",
    "    current_start_datetime = reco_reference_pd[reco_reference_pd[\"week_identifier\"] == current_week_identifier].start_date.iloc[0]\n",
    "    pivoted_cols = pivoted_df.columns\n",
    "    if removal_cols:\n",
    "        pivoted_cols = pivoted_df.columns.drop(removal_cols)\n",
    "\n",
    "    for col in pivoted_cols:\n",
    "        ref_start_datetime = reco_reference_pd[reco_reference_pd[\"week_identifier\"] == col].start_date.iloc[0]\n",
    "        delta = current_start_datetime - ref_start_datetime\n",
    "        weeks_back = delta.days/7\n",
    "        num_weeks_back = str(int(weeks_back))+suffix\n",
    "\n",
    "        col_reference[col] = num_weeks_back\n",
    "\n",
    "    # Rename columns based on the mapping    \n",
    "    pivoted_df.rename(columns=col_reference, inplace=True)\n",
    "    pivoted_df = pivoted_df.drop(columns=[f'0{suffix}'], errors='ignore')\n",
    "    logger.info(f\"renamed columns: {[pivoted_df.columns]}\")\n",
    "    return pivoted_df\n",
    "\n",
    "def evaluate_classifier(model, model_name, X_train, X_val, X_test, y_train, y_val, y_test):\n",
    "    \"\"\"Train and evaluate a classifier with comprehensive metrics.\"\"\"\n",
    "    logger.info(f\"\\nTraining {model_name}...\")\n",
    "    model.fit(X_train, y_train)\n",
    "    \n",
    "    # Evaluate on validation set\n",
    "    val_predictions = model.predict(X_val)\n",
    "    val_prob_predictions = model.predict_proba(X_val)[:, 1]\n",
    "    \n",
    "    print(f\"\\n{model_name} Validation Set Metrics:\")\n",
    "    print(classification_report(y_val, val_predictions))\n",
    "    print(f\"Validation AUC-ROC: {roc_auc_score(y_val, val_prob_predictions):.4f}\")\n",
    "    \n",
    "    # Evaluate on test set\n",
    "    test_predictions = model.predict(X_test)\n",
    "    test_prob_predictions = model.predict_proba(X_test)[:, 1]\n",
    "    \n",
    "    print(f\"\\n{model_name} Test Set Metrics:\")\n",
    "    print(classification_report(y_test, test_predictions))\n",
    "    print(f\"Test AUC-ROC: {roc_auc_score(y_test, test_prob_predictions):.4f}\")\n",
    "    \n",
    "    return {\n",
    "        'model': model,\n",
    "        'val_auc': roc_auc_score(y_val, val_prob_predictions),\n",
    "        'test_auc': roc_auc_score(y_test, test_prob_predictions),\n",
    "        'val_predictions': val_predictions,\n",
    "        'test_predictions': pd.Series(test_predictions, index=y_test.index),\n",
    "        'val_probabilities': val_prob_predictions,\n",
    "        'test_probabilities':  pd.Series(test_prob_predictions, index=y_test.index),\n",
    "        'results_table': pd.DataFrame({\n",
    "            'actual': y_test,\n",
    "            'predicted': test_predictions,\n",
    "            'predicted_proba': test_prob_predictions\n",
    "        }, index=y_test.index)\n",
    "    }\n",
    "\n",
    "def shap_analysis(model, model_name, X_train_scaled, X_val_scaled, feature_cols):\n",
    "    \"\"\"Perform SHAP value analysis for a given model and log results.\"\"\"\n",
    "    logger.info(f\"\\nPerforming SHAP analysis for {model_name}...\")\n",
    "\n",
    "    # Use a randomized subset of the validation data for SHAP analysis\n",
    "    shap_sample_size = 10000\n",
    "    if len(X_val_scaled) > shap_sample_size:\n",
    "        random_indices = np.random.choice(len(X_val_scaled), shap_sample_size, replace=False)\n",
    "        X_val_sample = X_val_scaled[random_indices]\n",
    "    else:\n",
    "        X_val_sample = X_val_scaled\n",
    "\n",
    "    # Check if the model supports SHAP\n",
    "    if hasattr(model, \"predict_proba\") or hasattr(model, \"predict\"):\n",
    "        try:\n",
    "            # Use TreeExplainer for tree-based models\n",
    "            if model_name in [\"randomforest\", \"xgboost\", \"lightgbm\", 'catboost']:\n",
    "                explainer = shap.TreeExplainer(model, model_output=\"raw\")  # Use raw output\n",
    "                shap_values_raw = explainer.shap_values(X_val_sample)\n",
    "\n",
    "                # Convert raw SHAP values to probabilities\n",
    "                base_value = explainer.expected_value  # Base value (log-odds)\n",
    "                shap_values_class_1 = expit(base_value + shap_values_raw)  # Convert to probabilities for class 1\n",
    "                shap_values_class_0 = 1 - shap_values_class_1  # Probabilities for class 0\n",
    "\n",
    "                # SHAP summary for class 1 (positive class)\n",
    "                logger.info(f\"SHAP summary for class 1 (positive class):\")\n",
    "                shap_summary_class_1 = np.mean(np.abs(shap_values_class_1), axis=0)\n",
    "                shap_summary_df_1 = pd.DataFrame({\n",
    "                    \"feature\": feature_cols,\n",
    "                    \"mean_abs_shap_value\": shap_summary_class_1\n",
    "                }).sort_values(\"mean_abs_shap_value\", ascending=False)\n",
    "                logger.info(\"\\n\" + str(shap_summary_df_1.head(20)))  # Log top 20 features\n",
    "\n",
    "\n",
    "                # SHAP summary for class 0 (negative class)\n",
    "                logger.info(f\"SHAP summary for class 0 (negative class):\")\n",
    "                shap_summary_class_0 = np.mean(np.abs(shap_values_class_0), axis=0)\n",
    "                shap_summary_df_0 = pd.DataFrame({\n",
    "                    \"feature\": feature_cols,\n",
    "                    \"mean_abs_shap_value\": shap_summary_class_0\n",
    "                }).sort_values(\"mean_abs_shap_value\", ascending=False)\n",
    "                logger.info(\"\\n\" + str(shap_summary_df_0.head(20)))  # Log top 20 features\n",
    "\n",
    "                return shap_summary_df_1, shap_summary_df_0\n",
    "\n",
    "            else:\n",
    "                logger.info(f\"SHAP analysis not implemented for model type: {model_name}\")\n",
    "                logger.info(\"Skipping SHAP analysis.\")\n",
    "\n",
    "            logger.info(f\"SHAP analysis completed for {model_name}.\")\n",
    "        except Exception as e:\n",
    "            logger.error(f\"Error during SHAP analysis for {model_name}: {str(e)}\")\n",
    "    else:\n",
    "        logger.info(f\"SHAP analysis not supported for {model_name}.\")\n"
   ]
  },
  {
   "cell_type": "markdown",
   "id": "583927c5-99eb-4f19-b425-2acf048e571b",
   "metadata": {},
   "source": [
    "#### Load Datasets"
   ]
  },
  {
   "cell_type": "code",
   "execution_count": 5,
   "id": "0801c5c0-5ba7-4755-b7fb-fda3eeff879b",
   "metadata": {
    "tags": []
   },
   "outputs": [],
   "source": [
    "PROJECT_PREFIX = 'it_'\n",
    "CURRENT_WEEK_NUMBER = '2025_339'\n",
    "WEEK_NUMBER = '2025_335'\n",
    "TARGET_WEEK_NUMBER = '2025_337'\n",
    "current_week_identifier = CURRENT_WEEK_NUMBER\n",
    "week_identifier = WEEK_NUMBER\n",
    "target_week_identifier = TARGET_WEEK_NUMBER\n"
   ]
  },
  {
   "cell_type": "code",
   "execution_count": 6,
   "id": "a658c874-1937-43a9-86fc-f0d6c3eae30e",
   "metadata": {
    "tags": []
   },
   "outputs": [],
   "source": [
    "predictions_output_table = f\"shoplikelihood_v4.{PROJECT_PREFIX}shoplikelihood_test_predictions_{CURRENT_WEEK_NUMBER}\"\n",
    "model_performance_output_table = f\"shoplikelihood_v4.{PROJECT_PREFIX}shoplikelihood_test_model_performance\"\n",
    "\n",
    "customer_purchase_labels_path = f\"gs://shoplikelihood_v4/ctr/{PROJECT_PREFIX}/input_data/{CURRENT_WEEK_NUMBER}/shoplikelihood_v4_customer_purchase_labels_ctr_{TARGET_WEEK_NUMBER}\"\n",
    "model_output_path = f\"gs://shoplikelihood_v4/ctr/{PROJECT_PREFIX}/model_registry/{CURRENT_WEEK_NUMBER}/0/output/model/\"\n",
    "model_features_path = f\"gs://shoplikelihood_v4/ctr/{PROJECT_PREFIX}/feature_store/{CURRENT_WEEK_NUMBER}/0/output/features\"\n",
    "gcs_embeddings_output_path = f\"gs://shoplikelihood_v4/ctr/{PROJECT_PREFIX}/input_data/{CURRENT_WEEK_NUMBER}/shoplikelihood_v4_customer_embeddings_ctr_{WEEK_NUMBER}\"\n",
    "customer_purchase_profile_path = f\"gs://shoplikelihood_v4/ctr/{PROJECT_PREFIX}/input_data/{CURRENT_WEEK_NUMBER}/shoplikelihood_v4_customer_purchase_profile_ctr_{WEEK_NUMBER}\"\n",
    "customer_purchase_history_path = f\"gs://shoplikelihood_v4/ctr/{PROJECT_PREFIX}/input_data/{CURRENT_WEEK_NUMBER}/shoplikelihood_v4_customer_purchase_history_ctr_{WEEK_NUMBER}\"\n",
    "customer_point_profile_path = f\"gs://shoplikelihood_v4/ctr/{PROJECT_PREFIX}/input_data/{CURRENT_WEEK_NUMBER}/shoplikelihood_v4_customer_point_profile_ctr_{WEEK_NUMBER}\" \n",
    "npp_history_path = f\"gs://shoplikelihood_v4/ctr/{PROJECT_PREFIX}/input_data/{CURRENT_WEEK_NUMBER}/shoplikelihood_v4_npp_history_ctr\"\n",
    "statistic_features_path = f\"gs://shoplikelihood_v4/ctr/{PROJECT_PREFIX}/input_data/{CURRENT_WEEK_NUMBER}/shoplikelihood_v4_statistic_features_ctr_{WEEK_NUMBER}\"\n"
   ]
  },
  {
   "cell_type": "code",
   "execution_count": 7,
   "id": "9340bedf-a5b7-4889-bea6-24f8fc23baec",
   "metadata": {
    "tags": []
   },
   "outputs": [],
   "source": [
    "bq_project = 'dp-lore'\n",
    "bq_client = bigquery.Client(project=bq_project)\n",
    "fs               = gcsfs.GCSFileSystem()\n",
    "\n",
    "\n"
   ]
  },
  {
   "cell_type": "code",
   "execution_count": 8,
   "id": "302d9837-a559-41d8-9dfa-e92732412353",
   "metadata": {
    "tags": []
   },
   "outputs": [
    {
     "name": "stdout",
     "output_type": "stream",
     "text": [
      "Loading deal week reference table...\n"
     ]
    },
    {
     "name": "stderr",
     "output_type": "stream",
     "text": [
      "/opt/conda/envs/tensorflow/lib/python3.10/site-packages/google/cloud/bigquery/table.py:2438: UserWarning: Unable to represent RANGE schema as struct using pandas ArrowDtype. Using `object` instead. To use ArrowDtype, use pandas >= 1.5 and pyarrow >= 10.0.1.\n",
      "  warnings.warn(_RANGE_PYARROW_WARNING)\n",
      "/opt/conda/envs/tensorflow/lib/python3.10/site-packages/google/cloud/bigquery/table.py:2452: UserWarning: Unable to represent RANGE schema as struct using pandas ArrowDtype. Using `object` instead. To use ArrowDtype, use pandas >= 1.5 and pyarrow >= 10.0.1.\n",
      "  warnings.warn(_RANGE_PYARROW_WARNING)\n",
      "/opt/conda/envs/tensorflow/lib/python3.10/site-packages/google/cloud/bigquery/table.py:2466: UserWarning: Unable to represent RANGE schema as struct using pandas ArrowDtype. Using `object` instead. To use ArrowDtype, use pandas >= 1.5 and pyarrow >= 10.0.1.\n",
      "  warnings.warn(_RANGE_PYARROW_WARNING)\n"
     ]
    }
   ],
   "source": [
    "reco_reference_pd = load_reco_reference_df(bq_client=bq_client)"
   ]
  },
  {
   "cell_type": "code",
   "execution_count": 9,
   "id": "74bb41f4-2d18-4e59-8001-424b4c92ba35",
   "metadata": {
    "tags": []
   },
   "outputs": [
    {
     "name": "stdout",
     "output_type": "stream",
     "text": [
      "2025-10-21 21:24:59,273 - INFO - Loading customer purchase labels from: gs://shoplikelihood_v4/ctr/it_/input_data/2025_339/shoplikelihood_v4_customer_purchase_labels_ctr_2025_337\n",
      "2025-10-21 21:25:48,687 - INFO - Loaded 1268506 customer purchase labels.\n"
     ]
    }
   ],
   "source": [
    "# Customer purchase labels\n",
    "logger.info(f\"Loading customer purchase labels from: {customer_purchase_labels_path}\")\n",
    "customer_purchase_labels = [_path for _path in fs.glob(os.path.join(customer_purchase_labels_path, \"*.parquet\"))]\n",
    "customer_labels_ds       = parquet.ParquetDataset(customer_purchase_labels, filesystem=fs)\n",
    "customer_labels_pd_df    = customer_labels_ds.read().to_pandas()\n",
    "logger.info(f\"Loaded {len(customer_labels_pd_df)} customer purchase labels.\")"
   ]
  },
  {
   "cell_type": "code",
   "execution_count": 10,
   "id": "578d0e66-0990-4b86-a80f-fc61e13c5670",
   "metadata": {
    "tags": []
   },
   "outputs": [
    {
     "name": "stdout",
     "output_type": "stream",
     "text": [
      "2025-10-21 21:25:48,693 - INFO - Loading LightFM embeddings from: gs://shoplikelihood_v4/ctr/it_/input_data/2025_339/shoplikelihood_v4_customer_embeddings_ctr_2025_335\n",
      "2025-10-21 21:36:27,791 - INFO - Total embedding rows loaded: 15452048\n",
      "2025-10-21 21:36:27,792 - INFO - Embedding columns: Index(['latent_0', 'latent_1', 'latent_2', 'latent_3', 'latent_4', 'latent_5',\n",
      "       'latent_6', 'latent_7', 'latent_8', 'latent_9',\n",
      "       ...\n",
      "       'latent_193', 'latent_194', 'latent_195', 'latent_196', 'latent_197',\n",
      "       'latent_198', 'latent_199', 'lightfm_id', 'user_id', 'epsilon_id'],\n",
      "      dtype='object', length=203)\n"
     ]
    }
   ],
   "source": [
    "# Embedding mapping table\n",
    "logger.info(f\"Loading LightFM embeddings from: {gcs_embeddings_output_path}\")\n",
    "embeddings_files = [_path for _path in fs.glob(os.path.join(gcs_embeddings_output_path, \"*.parquet\"))]\n",
    "embedding_ds = parquet.ParquetDataset(embeddings_files, filesystem=fs)\n",
    "embedding_df = embedding_ds.read().to_pandas()\n",
    "logger.info(f\"Total embedding rows loaded: {len(embedding_df)}\")\n",
    "logger.info(f\"Embedding columns: {embedding_df.columns}\")"
   ]
  },
  {
   "cell_type": "code",
   "execution_count": 11,
   "id": "33d020d0-304e-403e-9fbf-7587ac9ef9bd",
   "metadata": {
    "tags": []
   },
   "outputs": [
    {
     "name": "stdout",
     "output_type": "stream",
     "text": [
      "2025-10-21 21:36:27,801 - INFO - Loading customer purchase profile data from: gs://shoplikelihood_v4/ctr/it_/input_data/2025_339/shoplikelihood_v4_customer_purchase_profile_ctr_2025_335\n",
      "2025-10-21 21:37:42,836 - INFO - Purchase profile columns: Index(['banner', 'total_purchases', 'first_purchase_date',\n",
      "       'last_purchase_date', 'days_since_last_purchase_p25',\n",
      "       'days_since_last_purchase_p50', 'days_since_last_purchase_p75',\n",
      "       'avg_days_since_last_purchase', 'stddev_days_since_last_purchase',\n",
      "       'num_of_purchases_last_30_days', 'sales_last_30_days',\n",
      "       'num_of_purchases_last_60_days', 'sales_last_60_days',\n",
      "       'num_of_purchases_last_90_days', 'sales_last_90_days',\n",
      "       'num_of_purchases_last_120_days', 'sales_last_120_days',\n",
      "       'num_of_purchases_last_365_days', 'sales_last_365_days',\n",
      "       'days_since_first_purchase', 'days_since_last_purchase',\n",
      "       'epcl_profileid', 'epsilon_id'],\n",
      "      dtype='object')\n",
      "2025-10-21 21:37:42,838 - INFO - Loaded 12337552 customer purchase profiles.\n"
     ]
    }
   ],
   "source": [
    "#Customer Purchase Profile data\n",
    "logger.info(f\"Loading customer purchase profile data from: {customer_purchase_profile_path}\")\n",
    "customer_purchase_profile = [_path for _path in fs.glob(os.path.join(customer_purchase_profile_path, \"*.parquet\"))]\n",
    "customer_purchase_profile_ds = parquet.ParquetDataset(customer_purchase_profile, filesystem=fs)\n",
    "customer_purchase_profile_pd_df = customer_purchase_profile_ds.read().to_pandas()\n",
    "logger.info(f\"Purchase profile columns: {customer_purchase_profile_pd_df.columns}\")\n",
    "logger.info(f\"Loaded {len(customer_purchase_profile_pd_df)} customer purchase profiles.\")\n",
    "customer_purchase_profile_pd_df = customer_purchase_profile_pd_df[customer_purchase_profile_pd_df['banner'] == 'CTR']   \n",
    "customer_purchase_profile_pd_df.drop([\"epcl_profileid\", \"banner\"], axis=1, inplace=True, errors='ignore')\n",
    "fillna_median_cols = [\"days_since_last_purchase_p25\", \"days_since_last_purchase_p50\", \"days_since_last_purchase_p75\", \n",
    "                       \"avg_days_since_last_purchase\", \"stddev_days_since_last_purchase\"]\n",
    "customer_purchase_profile_pd_df[fillna_median_cols] = customer_purchase_profile_pd_df[fillna_median_cols].fillna(customer_purchase_profile_pd_df[fillna_median_cols].median())\n"
   ]
  },
  {
   "cell_type": "code",
   "execution_count": 12,
   "id": "ae2fdda9-585a-4eee-9a28-326f767a2e57",
   "metadata": {
    "tags": []
   },
   "outputs": [
    {
     "name": "stdout",
     "output_type": "stream",
     "text": [
      "2025-10-21 21:37:52,262 - INFO - Loading customer purchase history data from: gs://shoplikelihood_v4/ctr/it_/input_data/2025_339/shoplikelihood_v4_customer_purchase_history_ctr_2025_335\n",
      "2025-10-21 21:39:45,622 - INFO - Loaded 137075399 customer purchase histories.\n",
      "2025-10-21 21:42:49,647 - INFO - Renaming pivoted columns with suffix '_weeks_back_purchase'\n",
      "2025-10-21 21:42:54,279 - INFO - renamed columns: [Index(['epsilon_id', '104_weeks_back_purchase', '103_weeks_back_purchase',\n",
      "       '102_weeks_back_purchase', '101_weeks_back_purchase',\n",
      "       '100_weeks_back_purchase', '99_weeks_back_purchase',\n",
      "       '98_weeks_back_purchase', '97_weeks_back_purchase',\n",
      "       '96_weeks_back_purchase',\n",
      "       ...\n",
      "       '10_weeks_back_purchase', '9_weeks_back_purchase',\n",
      "       '8_weeks_back_purchase', '7_weeks_back_purchase',\n",
      "       '6_weeks_back_purchase', '5_weeks_back_purchase',\n",
      "       '4_weeks_back_purchase', '3_weeks_back_purchase',\n",
      "       '2_weeks_back_purchase', '1_weeks_back_purchase'],\n",
      "      dtype='object', name='week_identifier', length=105)]\n"
     ]
    }
   ],
   "source": [
    "# Customer Purchase History data\n",
    "logger.info(f\"Loading customer purchase history data from: {customer_purchase_history_path}\")\n",
    "customer_purchase_history = [_path for _path in fs.glob(os.path.join(customer_purchase_history_path, \"*.parquet\"))]\n",
    "customer_history_ds = parquet.ParquetDataset(customer_purchase_history, filesystem=fs)\n",
    "customer_history_pd_df = customer_history_ds.read().to_pandas()\n",
    "customer_history_pd_df = customer_history_pd_df[customer_history_pd_df['banner'] == 'CTR']\n",
    "customer_history_pd_df.drop([\"epcl_profileid\", \"banner\", week_identifier], axis=1, inplace=True, errors='ignore')\n",
    "logger.info(f\"Loaded {len(customer_history_pd_df)} customer purchase histories.\")\n",
    "customer_history_pivoted_df = customer_history_pd_df.pivot_table(\n",
    "                                        index='epsilon_id',\n",
    "                                        columns='week_identifier',\n",
    "                                        values='made_purchase',\n",
    "                                        aggfunc='max'  # or 'sum' if multiple purchases should be counted\n",
    "                                    )\\\n",
    "                            .reset_index() \\\n",
    "                            .fillna(0.0)\n",
    "customer_history_final_df = rename_pivot_columns(customer_history_pivoted_df, \n",
    "                                                 reco_reference_pd, \n",
    "                                                 week_identifier,\n",
    "                                                 \"_weeks_back_purchase\", \n",
    "                                                 removal_cols=[\"epsilon_id\"])\n"
   ]
  },
  {
   "cell_type": "code",
   "execution_count": 13,
   "id": "323e2f58-2cac-4aee-9296-04c92392730d",
   "metadata": {
    "tags": []
   },
   "outputs": [
    {
     "name": "stdout",
     "output_type": "stream",
     "text": [
      "2025-10-21 21:42:54,294 - INFO - Loading customer deal season data from bigquery table...\n",
      "2025-10-21 21:44:54,069 - INFO - Loaded 11069719 customer deal season profiles.\n"
     ]
    }
   ],
   "source": [
    "#Customer Deal Season data\n",
    "logger.info(f\"Loading customer deal season data from bigquery table...\")\n",
    "last_year_week_identifier = str(int(week_identifier[0:4]) - 1) + week_identifier[4:]\n",
    "reco_reference_filtered = reco_reference_pd[reco_reference_pd[\"week_identifier\"] <= last_year_week_identifier]\n",
    "customer_deal_season_pd_df = customer_history_pd_df.merge(reco_reference_pd, on='week_identifier', how='inner') \\\n",
    "                      .pivot_table(\n",
    "                                        index='epsilon_id',\n",
    "                                        columns='deal_season_num',\n",
    "                                        values='made_purchase',\n",
    "                                        aggfunc='max'\n",
    "                                    )\\\n",
    "                            .reset_index() \\\n",
    "                            .fillna(0)\n",
    "\n",
    "new_cols = []\n",
    "for c in customer_deal_season_pd_df.columns:\n",
    "    if c == \"epsilon_id\":\n",
    "        new_cols.append(c)\n",
    "    else:\n",
    "        new_cols.append(f\"deal_season_num_{int(c)}\")\n",
    "customer_deal_season_final_pd_df = customer_deal_season_pd_df.copy()\n",
    "customer_deal_season_final_pd_df.columns = new_cols\n",
    "logger.info(f\"Loaded {len(customer_deal_season_final_pd_df)} customer deal season profiles.\")\n"
   ]
  },
  {
   "cell_type": "code",
   "execution_count": null,
   "id": "fab299bd-96b0-48f2-ba61-8d9b656b6544",
   "metadata": {
    "tags": []
   },
   "outputs": [
    {
     "name": "stdout",
     "output_type": "stream",
     "text": [
      "2025-10-21 21:44:54,078 - INFO - Loading customer point profile data from: gs://shoplikelihood_v4/ctr/it_/input_data/2025_339/shoplikelihood_v4_customer_point_profile_ctr_2025_335\n"
     ]
    }
   ],
   "source": [
    "# Customer Point Profile data\n",
    "logger.info(f\"Loading customer point profile data from: {customer_point_profile_path}\")\n",
    "customer_point_profile = [_path for _path in fs.glob(os.path.join(customer_point_profile_path, \"*.parquet\"))]\n",
    "customer_point_profile_ds = parquet.ParquetDataset(customer_point_profile, filesystem=fs)\n",
    "customer_point_profile_pd_df = customer_point_profile_ds.read().to_pandas()\n",
    "customer_point_profile_pd_df = customer_point_profile_pd_df[customer_point_profile_pd_df['banner'] == 'CTR']\n",
    "customer_point_profile_pd_df.drop(\"banner\", axis=1, inplace=True, errors='ignore')\n",
    "logger.info(f\"Loaded {len(customer_point_profile_pd_df)} customer point profiles.\")\n",
    "\n",
    "\n",
    "customer_profile_summary_df = customer_point_profile_pd_df.merge(customer_purchase_profile_pd_df, on='epsilon_id', how='left')\\\n",
    "                                                          .merge(customer_history_final_df, on='epsilon_id', how='left') \\\n",
    "                                                          .merge(customer_deal_season_final_pd_df, on='epsilon_id', how='left')\n",
    "\n",
    "customer_profile_summary_df.fillna(0, inplace=True)"
   ]
  },
  {
   "cell_type": "code",
   "execution_count": null,
   "id": "ce81000b-5e6e-4840-b460-846059670d8c",
   "metadata": {
    "tags": []
   },
   "outputs": [
    {
     "name": "stdout",
     "output_type": "stream",
     "text": [
      "2025-10-21 21:48:54,537 - INFO - Loading NPP data from : gs://shoplikelihood_v4/ctr/it_/input_data/2025_339/shoplikelihood_v4_npp_history_ctr\n",
      "2025-10-21 21:49:09,149 - INFO - Loaded 105 NPP history records.\n",
      "2025-10-21 21:49:09,152 - INFO - Renaming pivoted columns with suffix '_weeks_back_NPP'\n",
      "2025-10-21 21:49:09,235 - INFO - renamed columns: [Index(['53_weeks_back_NPP', '63_weeks_back_NPP', '84_weeks_back_NPP',\n",
      "       '75_weeks_back_NPP', '44_weeks_back_NPP', '43_weeks_back_NPP',\n",
      "       '27_weeks_back_NPP', '52_weeks_back_NPP', '35_weeks_back_NPP',\n",
      "       '12_weeks_back_NPP', '11_weeks_back_NPP', '34_weeks_back_NPP',\n",
      "       '30_weeks_back_NPP', '29_weeks_back_NPP', '33_weeks_back_NPP',\n",
      "       '20_weeks_back_NPP', '77_weeks_back_NPP', '31_weeks_back_NPP',\n",
      "       '51_weeks_back_NPP', '26_weeks_back_NPP', '25_weeks_back_NPP',\n",
      "       '81_weeks_back_NPP', '66_weeks_back_NPP', '74_weeks_back_NPP',\n",
      "       '62_weeks_back_NPP', '39_weeks_back_NPP', '82_weeks_back_NPP',\n",
      "       '59_weeks_back_NPP', '21_weeks_back_NPP', '85_weeks_back_NPP',\n",
      "       '68_weeks_back_NPP', '46_weeks_back_NPP', '45_weeks_back_NPP',\n",
      "       '15_weeks_back_NPP', '7_weeks_back_NPP', '57_weeks_back_NPP',\n",
      "       '22_weeks_back_NPP', '69_weeks_back_NPP', '42_weeks_back_NPP',\n",
      "       '37_weeks_back_NPP', '6_weeks_back_NPP', '56_weeks_back_NPP',\n",
      "       '38_weeks_back_NPP', '14_weeks_back_NPP', '70_weeks_back_NPP',\n",
      "       '78_weeks_back_NPP', '48_weeks_back_NPP', '67_weeks_back_NPP',\n",
      "       '49_weeks_back_NPP', '80_weeks_back_NPP', '8_weeks_back_NPP',\n",
      "       '1_weeks_back_NPP', '79_weeks_back_NPP', '5_weeks_back_NPP',\n",
      "       '58_weeks_back_NPP', '4_weeks_back_NPP', '19_weeks_back_NPP',\n",
      "       '36_weeks_back_NPP', '13_weeks_back_NPP', '65_weeks_back_NPP',\n",
      "       '71_weeks_back_NPP', '86_weeks_back_NPP', '9_weeks_back_NPP',\n",
      "       '32_weeks_back_NPP', '64_weeks_back_NPP', '41_weeks_back_NPP',\n",
      "       '23_weeks_back_NPP', '54_weeks_back_NPP', '24_weeks_back_NPP',\n",
      "       '73_weeks_back_NPP', '2_weeks_back_NPP', '40_weeks_back_NPP',\n",
      "       '17_weeks_back_NPP', '18_weeks_back_NPP', '16_weeks_back_NPP',\n",
      "       '3_weeks_back_NPP', '72_weeks_back_NPP', '50_weeks_back_NPP',\n",
      "       '76_weeks_back_NPP', '55_weeks_back_NPP', '60_weeks_back_NPP',\n",
      "       '28_weeks_back_NPP', '83_weeks_back_NPP', '10_weeks_back_NPP',\n",
      "       '61_weeks_back_NPP', '47_weeks_back_NPP'],\n",
      "      dtype='object', name='week_identifier')]\n"
     ]
    }
   ],
   "source": [
    "# NPP data\n",
    "logger.info(f\"Loading NPP data from : {npp_history_path}\")\n",
    "npp_history = [_path for _path in fs.glob(os.path.join(npp_history_path, \"*.parquet\"))]\n",
    "npp_history_ds = parquet.ParquetDataset(npp_history, filesystem=fs)\n",
    "npp_history_pd_df = npp_history_ds.read().to_pandas()\n",
    "logger.info(f\"Loaded {len(npp_history_pd_df)} NPP history records.\")\n",
    "npp_history_pd_df = npp_history_pd_df[npp_history_pd_df[\"week_identifier\"] <=week_identifier]\n",
    "npp_history_pivoted_df = npp_history_pd_df.set_index('week_identifier')['npp_flag'].T.to_frame().T\n",
    "npp_history_pivoted_df.reset_index(drop=True, inplace=True)\n",
    "npp_history_pivoted_df = rename_pivot_columns(npp_history_pivoted_df, reco_reference_pd, week_identifier, \"_weeks_back_NPP\")\n",
    "npp_history_pivoted_df = npp_history_pivoted_df.add_suffix('_npp_flag')"
   ]
  },
  {
   "cell_type": "markdown",
   "id": "0e1d0bb3-30b9-45fe-b42d-988ea8eee7dc",
   "metadata": {},
   "source": [
    "### Combine data"
   ]
  },
  {
   "cell_type": "code",
   "execution_count": null,
   "id": "5ede50cc-1afb-48c9-8a4c-4c6c2ec0453b",
   "metadata": {
    "tags": []
   },
   "outputs": [
    {
     "name": "stdout",
     "output_type": "stream",
     "text": [
      "2025-10-21 21:49:09,243 - INFO - ['latent_0', 'latent_1', 'latent_2', 'latent_3', 'latent_4', 'latent_5', 'latent_6', 'latent_7', 'latent_8', 'latent_9', 'latent_10', 'latent_11', 'latent_12', 'latent_13', 'latent_14', 'latent_15', 'latent_16', 'latent_17', 'latent_18', 'latent_19', 'latent_20', 'latent_21', 'latent_22', 'latent_23', 'latent_24', 'latent_25', 'latent_26', 'latent_27', 'latent_28', 'latent_29', 'latent_30', 'latent_31', 'latent_32', 'latent_33', 'latent_34', 'latent_35', 'latent_36', 'latent_37', 'latent_38', 'latent_39', 'latent_40', 'latent_41', 'latent_42', 'latent_43', 'latent_44', 'latent_45', 'latent_46', 'latent_47', 'latent_48', 'latent_49', 'latent_50', 'latent_51', 'latent_52', 'latent_53', 'latent_54', 'latent_55', 'latent_56', 'latent_57', 'latent_58', 'latent_59', 'latent_60', 'latent_61', 'latent_62', 'latent_63', 'latent_64', 'latent_65', 'latent_66', 'latent_67', 'latent_68', 'latent_69', 'latent_70', 'latent_71', 'latent_72', 'latent_73', 'latent_74', 'latent_75', 'latent_76', 'latent_77', 'latent_78', 'latent_79', 'latent_80', 'latent_81', 'latent_82', 'latent_83', 'latent_84', 'latent_85', 'latent_86', 'latent_87', 'latent_88', 'latent_89', 'latent_90', 'latent_91', 'latent_92', 'latent_93', 'latent_94', 'latent_95', 'latent_96', 'latent_97', 'latent_98', 'latent_99', 'latent_100', 'latent_101', 'latent_102', 'latent_103', 'latent_104', 'latent_105', 'latent_106', 'latent_107', 'latent_108', 'latent_109', 'latent_110', 'latent_111', 'latent_112', 'latent_113', 'latent_114', 'latent_115', 'latent_116', 'latent_117', 'latent_118', 'latent_119', 'latent_120', 'latent_121', 'latent_122', 'latent_123', 'latent_124', 'latent_125', 'latent_126', 'latent_127', 'latent_128', 'latent_129', 'latent_130', 'latent_131', 'latent_132', 'latent_133', 'latent_134', 'latent_135', 'latent_136', 'latent_137', 'latent_138', 'latent_139', 'latent_140', 'latent_141', 'latent_142', 'latent_143', 'latent_144', 'latent_145', 'latent_146', 'latent_147', 'latent_148', 'latent_149', 'latent_150', 'latent_151', 'latent_152', 'latent_153', 'latent_154', 'latent_155', 'latent_156', 'latent_157', 'latent_158', 'latent_159', 'latent_160', 'latent_161', 'latent_162', 'latent_163', 'latent_164', 'latent_165', 'latent_166', 'latent_167', 'latent_168', 'latent_169', 'latent_170', 'latent_171', 'latent_172', 'latent_173', 'latent_174', 'latent_175', 'latent_176', 'latent_177', 'latent_178', 'latent_179', 'latent_180', 'latent_181', 'latent_182', 'latent_183', 'latent_184', 'latent_185', 'latent_186', 'latent_187', 'latent_188', 'latent_189', 'latent_190', 'latent_191', 'latent_192', 'latent_193', 'latent_194', 'latent_195', 'latent_196', 'latent_197', 'latent_198', 'latent_199', 'lightfm_id', 'user_id', 'epsilon_id']\n",
      "2025-10-21 21:49:09,245 - INFO - ['register_date', 'enroll_date', 'base_points_last_30_days', 'credit_points_last_30_days', 'bonus_points_last_30_days', 'redemption_points_last_30_days', 'total_loyalty_point_balance_last_30_days', 'base_points_last_60_days', 'credit_points_last_60_days', 'bonus_points_last_60_days', 'redemption_points_last_60_days', 'total_loyalty_point_balance_last_60_days', 'base_points_last_90_days', 'credit_points_last_90_days', 'bonus_points_last_90_days', 'redemption_points_last_90_days', 'total_loyalty_point_balance_last_90_days', 'base_points_last_120_days', 'credit_points_last_120_days', 'bonus_points_last_120_days', 'redemption_points_last_120_days', 'total_loyalty_point_balance_last_120_days', 'base_points_last_365_days', 'credit_points_last_365_days', 'bonus_points_last_365_days', 'redemption_points_last_365_days', 'total_loyalty_point_balance_last_365_days', 'dollarbalance', 'epcl_profileid', 'epsilon_id', 'total_purchases', 'first_purchase_date', 'last_purchase_date', 'days_since_last_purchase_p25', 'days_since_last_purchase_p50', 'days_since_last_purchase_p75', 'avg_days_since_last_purchase', 'stddev_days_since_last_purchase', 'num_of_purchases_last_30_days', 'sales_last_30_days', 'num_of_purchases_last_60_days', 'sales_last_60_days', 'num_of_purchases_last_90_days', 'sales_last_90_days', 'num_of_purchases_last_120_days', 'sales_last_120_days', 'num_of_purchases_last_365_days', 'sales_last_365_days', 'days_since_first_purchase', 'days_since_last_purchase', '104_weeks_back_purchase', '103_weeks_back_purchase', '102_weeks_back_purchase', '101_weeks_back_purchase', '100_weeks_back_purchase', '99_weeks_back_purchase', '98_weeks_back_purchase', '97_weeks_back_purchase', '96_weeks_back_purchase', '95_weeks_back_purchase', '94_weeks_back_purchase', '93_weeks_back_purchase', '92_weeks_back_purchase', '91_weeks_back_purchase', '90_weeks_back_purchase', '89_weeks_back_purchase', '88_weeks_back_purchase', '87_weeks_back_purchase', '86_weeks_back_purchase', '85_weeks_back_purchase', '84_weeks_back_purchase', '83_weeks_back_purchase', '82_weeks_back_purchase', '81_weeks_back_purchase', '80_weeks_back_purchase', '79_weeks_back_purchase', '78_weeks_back_purchase', '77_weeks_back_purchase', '76_weeks_back_purchase', '75_weeks_back_purchase', '74_weeks_back_purchase', '73_weeks_back_purchase', '72_weeks_back_purchase', '71_weeks_back_purchase', '70_weeks_back_purchase', '69_weeks_back_purchase', '68_weeks_back_purchase', '67_weeks_back_purchase', '66_weeks_back_purchase', '65_weeks_back_purchase', '64_weeks_back_purchase', '63_weeks_back_purchase', '62_weeks_back_purchase', '61_weeks_back_purchase', '60_weeks_back_purchase', '59_weeks_back_purchase', '58_weeks_back_purchase', '57_weeks_back_purchase', '56_weeks_back_purchase', '55_weeks_back_purchase', '54_weeks_back_purchase', '53_weeks_back_purchase', '52_weeks_back_purchase', '51_weeks_back_purchase', '50_weeks_back_purchase', '49_weeks_back_purchase', '48_weeks_back_purchase', '47_weeks_back_purchase', '46_weeks_back_purchase', '45_weeks_back_purchase', '44_weeks_back_purchase', '43_weeks_back_purchase', '42_weeks_back_purchase', '41_weeks_back_purchase', '40_weeks_back_purchase', '39_weeks_back_purchase', '38_weeks_back_purchase', '37_weeks_back_purchase', '36_weeks_back_purchase', '35_weeks_back_purchase', '34_weeks_back_purchase', '33_weeks_back_purchase', '32_weeks_back_purchase', '31_weeks_back_purchase', '30_weeks_back_purchase', '29_weeks_back_purchase', '28_weeks_back_purchase', '27_weeks_back_purchase', '26_weeks_back_purchase', '25_weeks_back_purchase', '24_weeks_back_purchase', '23_weeks_back_purchase', '22_weeks_back_purchase', '21_weeks_back_purchase', '20_weeks_back_purchase', '19_weeks_back_purchase', '18_weeks_back_purchase', '17_weeks_back_purchase', '16_weeks_back_purchase', '15_weeks_back_purchase', '14_weeks_back_purchase', '13_weeks_back_purchase', '12_weeks_back_purchase', '11_weeks_back_purchase', '10_weeks_back_purchase', '9_weeks_back_purchase', '8_weeks_back_purchase', '7_weeks_back_purchase', '6_weeks_back_purchase', '5_weeks_back_purchase', '4_weeks_back_purchase', '3_weeks_back_purchase', '2_weeks_back_purchase', '1_weeks_back_purchase', 'deal_season_num_1', 'deal_season_num_2', 'deal_season_num_3', 'deal_season_num_4', 'deal_season_num_5', 'deal_season_num_6', 'deal_season_num_7']\n"
     ]
    }
   ],
   "source": [
    "# Combine Model Features DataFrame\n",
    "logger.info(embedding_df.columns.tolist())\n",
    "logger.info(customer_profile_summary_df.columns.tolist())\n",
    "model_features_df = embedding_df.merge(customer_profile_summary_df, on='epsilon_id', how='inner') \\\n",
    "                                .merge(npp_history_pivoted_df, how='cross') \\\n",
    "                                .merge(customer_labels_pd_df[['epsilon_id', 'purchase_flag']], on='epsilon_id', how='left') \\\n",
    "                                .drop_duplicates(subset='epsilon_id')\n",
    "\n",
    "model_features_df[\"purchase_flag\"] = model_features_df[\"purchase_flag\"].fillna('N')\n"
   ]
  },
  {
   "cell_type": "code",
   "execution_count": 62,
   "id": "327e82ca-9d09-48bc-ba9c-c409895628f3",
   "metadata": {
    "tags": []
   },
   "outputs": [
    {
     "data": {
      "text/html": [
       "<div>\n",
       "<style scoped>\n",
       "    .dataframe tbody tr th:only-of-type {\n",
       "        vertical-align: middle;\n",
       "    }\n",
       "\n",
       "    .dataframe tbody tr th {\n",
       "        vertical-align: top;\n",
       "    }\n",
       "\n",
       "    .dataframe thead th {\n",
       "        text-align: right;\n",
       "    }\n",
       "</style>\n",
       "<table border=\"1\" class=\"dataframe\">\n",
       "  <thead>\n",
       "    <tr style=\"text-align: right;\">\n",
       "      <th></th>\n",
       "      <th>latent_0</th>\n",
       "      <th>latent_1</th>\n",
       "      <th>latent_2</th>\n",
       "      <th>latent_3</th>\n",
       "      <th>latent_4</th>\n",
       "      <th>latent_5</th>\n",
       "      <th>latent_6</th>\n",
       "      <th>latent_7</th>\n",
       "      <th>latent_8</th>\n",
       "      <th>latent_9</th>\n",
       "      <th>...</th>\n",
       "      <th>50_weeks_back_NPP_npp_flag</th>\n",
       "      <th>76_weeks_back_NPP_npp_flag</th>\n",
       "      <th>55_weeks_back_NPP_npp_flag</th>\n",
       "      <th>60_weeks_back_NPP_npp_flag</th>\n",
       "      <th>28_weeks_back_NPP_npp_flag</th>\n",
       "      <th>83_weeks_back_NPP_npp_flag</th>\n",
       "      <th>10_weeks_back_NPP_npp_flag</th>\n",
       "      <th>61_weeks_back_NPP_npp_flag</th>\n",
       "      <th>47_weeks_back_NPP_npp_flag</th>\n",
       "      <th>purchase_flag</th>\n",
       "    </tr>\n",
       "  </thead>\n",
       "  <tbody>\n",
       "    <tr>\n",
       "      <th>0</th>\n",
       "      <td>-0.236511</td>\n",
       "      <td>0.367811</td>\n",
       "      <td>-0.264329</td>\n",
       "      <td>0.150110</td>\n",
       "      <td>0.043657</td>\n",
       "      <td>0.307158</td>\n",
       "      <td>0.085822</td>\n",
       "      <td>0.107835</td>\n",
       "      <td>0.282386</td>\n",
       "      <td>0.036304</td>\n",
       "      <td>...</td>\n",
       "      <td>0</td>\n",
       "      <td>0</td>\n",
       "      <td>1</td>\n",
       "      <td>0</td>\n",
       "      <td>0</td>\n",
       "      <td>0</td>\n",
       "      <td>0</td>\n",
       "      <td>1</td>\n",
       "      <td>0</td>\n",
       "      <td>Y</td>\n",
       "    </tr>\n",
       "    <tr>\n",
       "      <th>1</th>\n",
       "      <td>-0.018318</td>\n",
       "      <td>0.101403</td>\n",
       "      <td>0.147813</td>\n",
       "      <td>-0.130497</td>\n",
       "      <td>0.069839</td>\n",
       "      <td>0.157409</td>\n",
       "      <td>-0.186541</td>\n",
       "      <td>0.070797</td>\n",
       "      <td>0.075702</td>\n",
       "      <td>-0.314529</td>\n",
       "      <td>...</td>\n",
       "      <td>0</td>\n",
       "      <td>0</td>\n",
       "      <td>1</td>\n",
       "      <td>0</td>\n",
       "      <td>0</td>\n",
       "      <td>0</td>\n",
       "      <td>0</td>\n",
       "      <td>1</td>\n",
       "      <td>0</td>\n",
       "      <td>N</td>\n",
       "    </tr>\n",
       "    <tr>\n",
       "      <th>2</th>\n",
       "      <td>0.011333</td>\n",
       "      <td>-0.065377</td>\n",
       "      <td>-0.011443</td>\n",
       "      <td>-0.155225</td>\n",
       "      <td>-0.057911</td>\n",
       "      <td>0.101626</td>\n",
       "      <td>0.217250</td>\n",
       "      <td>0.081023</td>\n",
       "      <td>0.088014</td>\n",
       "      <td>-0.159569</td>\n",
       "      <td>...</td>\n",
       "      <td>0</td>\n",
       "      <td>0</td>\n",
       "      <td>1</td>\n",
       "      <td>0</td>\n",
       "      <td>0</td>\n",
       "      <td>0</td>\n",
       "      <td>0</td>\n",
       "      <td>1</td>\n",
       "      <td>0</td>\n",
       "      <td>N</td>\n",
       "    </tr>\n",
       "    <tr>\n",
       "      <th>3</th>\n",
       "      <td>-0.280515</td>\n",
       "      <td>0.574260</td>\n",
       "      <td>-0.148927</td>\n",
       "      <td>-0.099272</td>\n",
       "      <td>0.017459</td>\n",
       "      <td>0.039658</td>\n",
       "      <td>-0.030500</td>\n",
       "      <td>0.272102</td>\n",
       "      <td>0.311880</td>\n",
       "      <td>0.018663</td>\n",
       "      <td>...</td>\n",
       "      <td>0</td>\n",
       "      <td>0</td>\n",
       "      <td>1</td>\n",
       "      <td>0</td>\n",
       "      <td>0</td>\n",
       "      <td>0</td>\n",
       "      <td>0</td>\n",
       "      <td>1</td>\n",
       "      <td>0</td>\n",
       "      <td>N</td>\n",
       "    </tr>\n",
       "    <tr>\n",
       "      <th>4</th>\n",
       "      <td>-0.047318</td>\n",
       "      <td>-0.197533</td>\n",
       "      <td>0.383193</td>\n",
       "      <td>0.269007</td>\n",
       "      <td>0.173252</td>\n",
       "      <td>0.310919</td>\n",
       "      <td>-0.167641</td>\n",
       "      <td>-0.217669</td>\n",
       "      <td>-0.178382</td>\n",
       "      <td>-0.123584</td>\n",
       "      <td>...</td>\n",
       "      <td>0</td>\n",
       "      <td>0</td>\n",
       "      <td>1</td>\n",
       "      <td>0</td>\n",
       "      <td>0</td>\n",
       "      <td>0</td>\n",
       "      <td>0</td>\n",
       "      <td>1</td>\n",
       "      <td>0</td>\n",
       "      <td>N</td>\n",
       "    </tr>\n",
       "    <tr>\n",
       "      <th>...</th>\n",
       "      <td>...</td>\n",
       "      <td>...</td>\n",
       "      <td>...</td>\n",
       "      <td>...</td>\n",
       "      <td>...</td>\n",
       "      <td>...</td>\n",
       "      <td>...</td>\n",
       "      <td>...</td>\n",
       "      <td>...</td>\n",
       "      <td>...</td>\n",
       "      <td>...</td>\n",
       "      <td>...</td>\n",
       "      <td>...</td>\n",
       "      <td>...</td>\n",
       "      <td>...</td>\n",
       "      <td>...</td>\n",
       "      <td>...</td>\n",
       "      <td>...</td>\n",
       "      <td>...</td>\n",
       "      <td>...</td>\n",
       "      <td>...</td>\n",
       "    </tr>\n",
       "    <tr>\n",
       "      <th>10310432</th>\n",
       "      <td>0.183855</td>\n",
       "      <td>-0.105890</td>\n",
       "      <td>-0.177621</td>\n",
       "      <td>0.237863</td>\n",
       "      <td>0.006582</td>\n",
       "      <td>0.085435</td>\n",
       "      <td>0.257373</td>\n",
       "      <td>0.046415</td>\n",
       "      <td>-0.068825</td>\n",
       "      <td>-0.224214</td>\n",
       "      <td>...</td>\n",
       "      <td>0</td>\n",
       "      <td>0</td>\n",
       "      <td>1</td>\n",
       "      <td>0</td>\n",
       "      <td>0</td>\n",
       "      <td>0</td>\n",
       "      <td>0</td>\n",
       "      <td>1</td>\n",
       "      <td>0</td>\n",
       "      <td>N</td>\n",
       "    </tr>\n",
       "    <tr>\n",
       "      <th>10310433</th>\n",
       "      <td>0.146169</td>\n",
       "      <td>-0.204424</td>\n",
       "      <td>-0.142251</td>\n",
       "      <td>0.372205</td>\n",
       "      <td>0.142079</td>\n",
       "      <td>-0.140991</td>\n",
       "      <td>-0.168030</td>\n",
       "      <td>-0.197757</td>\n",
       "      <td>0.351957</td>\n",
       "      <td>-0.247374</td>\n",
       "      <td>...</td>\n",
       "      <td>0</td>\n",
       "      <td>0</td>\n",
       "      <td>1</td>\n",
       "      <td>0</td>\n",
       "      <td>0</td>\n",
       "      <td>0</td>\n",
       "      <td>0</td>\n",
       "      <td>1</td>\n",
       "      <td>0</td>\n",
       "      <td>N</td>\n",
       "    </tr>\n",
       "    <tr>\n",
       "      <th>10310434</th>\n",
       "      <td>0.140745</td>\n",
       "      <td>-0.600010</td>\n",
       "      <td>0.093211</td>\n",
       "      <td>-0.021007</td>\n",
       "      <td>0.288595</td>\n",
       "      <td>0.002239</td>\n",
       "      <td>0.017772</td>\n",
       "      <td>-0.123403</td>\n",
       "      <td>0.060214</td>\n",
       "      <td>-0.070999</td>\n",
       "      <td>...</td>\n",
       "      <td>0</td>\n",
       "      <td>0</td>\n",
       "      <td>1</td>\n",
       "      <td>0</td>\n",
       "      <td>0</td>\n",
       "      <td>0</td>\n",
       "      <td>0</td>\n",
       "      <td>1</td>\n",
       "      <td>0</td>\n",
       "      <td>N</td>\n",
       "    </tr>\n",
       "    <tr>\n",
       "      <th>10310435</th>\n",
       "      <td>0.116504</td>\n",
       "      <td>-0.120848</td>\n",
       "      <td>0.428490</td>\n",
       "      <td>0.149965</td>\n",
       "      <td>0.018149</td>\n",
       "      <td>-0.362648</td>\n",
       "      <td>-0.408379</td>\n",
       "      <td>-0.213171</td>\n",
       "      <td>0.311935</td>\n",
       "      <td>-0.075867</td>\n",
       "      <td>...</td>\n",
       "      <td>0</td>\n",
       "      <td>0</td>\n",
       "      <td>1</td>\n",
       "      <td>0</td>\n",
       "      <td>0</td>\n",
       "      <td>0</td>\n",
       "      <td>0</td>\n",
       "      <td>1</td>\n",
       "      <td>0</td>\n",
       "      <td>N</td>\n",
       "    </tr>\n",
       "    <tr>\n",
       "      <th>10310436</th>\n",
       "      <td>0.295145</td>\n",
       "      <td>0.029087</td>\n",
       "      <td>-0.166757</td>\n",
       "      <td>0.117254</td>\n",
       "      <td>-0.266153</td>\n",
       "      <td>0.064480</td>\n",
       "      <td>-0.041457</td>\n",
       "      <td>-0.180963</td>\n",
       "      <td>-0.280647</td>\n",
       "      <td>-0.285305</td>\n",
       "      <td>...</td>\n",
       "      <td>0</td>\n",
       "      <td>0</td>\n",
       "      <td>1</td>\n",
       "      <td>0</td>\n",
       "      <td>0</td>\n",
       "      <td>0</td>\n",
       "      <td>0</td>\n",
       "      <td>1</td>\n",
       "      <td>0</td>\n",
       "      <td>N</td>\n",
       "    </tr>\n",
       "  </tbody>\n",
       "</table>\n",
       "<p>10078048 rows × 450 columns</p>\n",
       "</div>"
      ],
      "text/plain": [
       "          latent_0  latent_1  latent_2  latent_3  latent_4  latent_5  \\\n",
       "0        -0.236511  0.367811 -0.264329  0.150110  0.043657  0.307158   \n",
       "1        -0.018318  0.101403  0.147813 -0.130497  0.069839  0.157409   \n",
       "2         0.011333 -0.065377 -0.011443 -0.155225 -0.057911  0.101626   \n",
       "3        -0.280515  0.574260 -0.148927 -0.099272  0.017459  0.039658   \n",
       "4        -0.047318 -0.197533  0.383193  0.269007  0.173252  0.310919   \n",
       "...            ...       ...       ...       ...       ...       ...   \n",
       "10310432  0.183855 -0.105890 -0.177621  0.237863  0.006582  0.085435   \n",
       "10310433  0.146169 -0.204424 -0.142251  0.372205  0.142079 -0.140991   \n",
       "10310434  0.140745 -0.600010  0.093211 -0.021007  0.288595  0.002239   \n",
       "10310435  0.116504 -0.120848  0.428490  0.149965  0.018149 -0.362648   \n",
       "10310436  0.295145  0.029087 -0.166757  0.117254 -0.266153  0.064480   \n",
       "\n",
       "          latent_6  latent_7  latent_8  latent_9  ...  \\\n",
       "0         0.085822  0.107835  0.282386  0.036304  ...   \n",
       "1        -0.186541  0.070797  0.075702 -0.314529  ...   \n",
       "2         0.217250  0.081023  0.088014 -0.159569  ...   \n",
       "3        -0.030500  0.272102  0.311880  0.018663  ...   \n",
       "4        -0.167641 -0.217669 -0.178382 -0.123584  ...   \n",
       "...            ...       ...       ...       ...  ...   \n",
       "10310432  0.257373  0.046415 -0.068825 -0.224214  ...   \n",
       "10310433 -0.168030 -0.197757  0.351957 -0.247374  ...   \n",
       "10310434  0.017772 -0.123403  0.060214 -0.070999  ...   \n",
       "10310435 -0.408379 -0.213171  0.311935 -0.075867  ...   \n",
       "10310436 -0.041457 -0.180963 -0.280647 -0.285305  ...   \n",
       "\n",
       "          50_weeks_back_NPP_npp_flag  76_weeks_back_NPP_npp_flag  \\\n",
       "0                                  0                           0   \n",
       "1                                  0                           0   \n",
       "2                                  0                           0   \n",
       "3                                  0                           0   \n",
       "4                                  0                           0   \n",
       "...                              ...                         ...   \n",
       "10310432                           0                           0   \n",
       "10310433                           0                           0   \n",
       "10310434                           0                           0   \n",
       "10310435                           0                           0   \n",
       "10310436                           0                           0   \n",
       "\n",
       "          55_weeks_back_NPP_npp_flag  60_weeks_back_NPP_npp_flag  \\\n",
       "0                                  1                           0   \n",
       "1                                  1                           0   \n",
       "2                                  1                           0   \n",
       "3                                  1                           0   \n",
       "4                                  1                           0   \n",
       "...                              ...                         ...   \n",
       "10310432                           1                           0   \n",
       "10310433                           1                           0   \n",
       "10310434                           1                           0   \n",
       "10310435                           1                           0   \n",
       "10310436                           1                           0   \n",
       "\n",
       "          28_weeks_back_NPP_npp_flag  83_weeks_back_NPP_npp_flag  \\\n",
       "0                                  0                           0   \n",
       "1                                  0                           0   \n",
       "2                                  0                           0   \n",
       "3                                  0                           0   \n",
       "4                                  0                           0   \n",
       "...                              ...                         ...   \n",
       "10310432                           0                           0   \n",
       "10310433                           0                           0   \n",
       "10310434                           0                           0   \n",
       "10310435                           0                           0   \n",
       "10310436                           0                           0   \n",
       "\n",
       "          10_weeks_back_NPP_npp_flag  61_weeks_back_NPP_npp_flag  \\\n",
       "0                                  0                           1   \n",
       "1                                  0                           1   \n",
       "2                                  0                           1   \n",
       "3                                  0                           1   \n",
       "4                                  0                           1   \n",
       "...                              ...                         ...   \n",
       "10310432                           0                           1   \n",
       "10310433                           0                           1   \n",
       "10310434                           0                           1   \n",
       "10310435                           0                           1   \n",
       "10310436                           0                           1   \n",
       "\n",
       "          47_weeks_back_NPP_npp_flag  purchase_flag  \n",
       "0                                  0              Y  \n",
       "1                                  0              N  \n",
       "2                                  0              N  \n",
       "3                                  0              N  \n",
       "4                                  0              N  \n",
       "...                              ...            ...  \n",
       "10310432                           0              N  \n",
       "10310433                           0              N  \n",
       "10310434                           0              N  \n",
       "10310435                           0              N  \n",
       "10310436                           0              N  \n",
       "\n",
       "[10078048 rows x 450 columns]"
      ]
     },
     "execution_count": 62,
     "metadata": {},
     "output_type": "execute_result"
    }
   ],
   "source": [
    "model_features_df"
   ]
  },
  {
   "cell_type": "code",
   "execution_count": null,
   "id": "68f9ae04-05ef-4838-b93d-372ba0bd2eb4",
   "metadata": {
    "tags": []
   },
   "outputs": [
    {
     "name": "stdout",
     "output_type": "stream",
     "text": [
      "2025-10-21 21:52:36,107 - INFO - Model features shape: (10078048, 450)\n",
      "2025-10-21 21:52:36,109 - INFO -    latent_0  latent_1  latent_2  latent_3  latent_4  latent_5  latent_6  \\\n",
      "0 -0.236511  0.367811 -0.264329  0.150110  0.043657  0.307158  0.085822   \n",
      "1 -0.018318  0.101403  0.147813 -0.130497  0.069839  0.157409 -0.186541   \n",
      "2  0.011333 -0.065377 -0.011443 -0.155225 -0.057911  0.101626  0.217250   \n",
      "3 -0.280515  0.574260 -0.148927 -0.099272  0.017459  0.039658 -0.030500   \n",
      "4 -0.047318 -0.197533  0.383193  0.269007  0.173252  0.310919 -0.167641   \n",
      "\n",
      "   latent_7  latent_8  latent_9  ...  50_weeks_back_NPP_npp_flag  \\\n",
      "0  0.107835  0.282386  0.036304  ...                           0   \n",
      "1  0.070797  0.075702 -0.314529  ...                           0   \n",
      "2  0.081023  0.088014 -0.159569  ...                           0   \n",
      "3  0.272102  0.311880  0.018663  ...                           0   \n",
      "4 -0.217669 -0.178382 -0.123584  ...                           0   \n",
      "\n",
      "   76_weeks_back_NPP_npp_flag  55_weeks_back_NPP_npp_flag  \\\n",
      "0                           0                           1   \n",
      "1                           0                           1   \n",
      "2                           0                           1   \n",
      "3                           0                           1   \n",
      "4                           0                           1   \n",
      "\n",
      "   60_weeks_back_NPP_npp_flag  28_weeks_back_NPP_npp_flag  \\\n",
      "0                           0                           0   \n",
      "1                           0                           0   \n",
      "2                           0                           0   \n",
      "3                           0                           0   \n",
      "4                           0                           0   \n",
      "\n",
      "   83_weeks_back_NPP_npp_flag  10_weeks_back_NPP_npp_flag  \\\n",
      "0                           0                           0   \n",
      "1                           0                           0   \n",
      "2                           0                           0   \n",
      "3                           0                           0   \n",
      "4                           0                           0   \n",
      "\n",
      "   61_weeks_back_NPP_npp_flag  47_weeks_back_NPP_npp_flag  purchase_flag  \n",
      "0                           1                           0              Y  \n",
      "1                           1                           0              N  \n",
      "2                           1                           0              N  \n",
      "3                           1                           0              N  \n",
      "4                           1                           0              N  \n",
      "\n",
      "[5 rows x 450 columns]\n",
      "2025-10-21 21:52:54,142 - INFO -                latent_0  latent_1  latent_2  latent_3  latent_4  latent_5  \\\n",
      "purchase_flag                                                               \n",
      "N               8888226   8888226   8888226   8888226   8888226   8888226   \n",
      "Y               1189822   1189822   1189822   1189822   1189822   1189822   \n",
      "\n",
      "               latent_6  latent_7  latent_8  latent_9  ...  \\\n",
      "purchase_flag                                          ...   \n",
      "N               8888226   8888226   8888226   8888226  ...   \n",
      "Y               1189822   1189822   1189822   1189822  ...   \n",
      "\n",
      "               72_weeks_back_NPP_npp_flag  50_weeks_back_NPP_npp_flag  \\\n",
      "purchase_flag                                                           \n",
      "N                                 8888226                     8888226   \n",
      "Y                                 1189822                     1189822   \n",
      "\n",
      "               76_weeks_back_NPP_npp_flag  55_weeks_back_NPP_npp_flag  \\\n",
      "purchase_flag                                                           \n",
      "N                                 8888226                     8888226   \n",
      "Y                                 1189822                     1189822   \n",
      "\n",
      "               60_weeks_back_NPP_npp_flag  28_weeks_back_NPP_npp_flag  \\\n",
      "purchase_flag                                                           \n",
      "N                                 8888226                     8888226   \n",
      "Y                                 1189822                     1189822   \n",
      "\n",
      "               83_weeks_back_NPP_npp_flag  10_weeks_back_NPP_npp_flag  \\\n",
      "purchase_flag                                                           \n",
      "N                                 8888226                     8888226   \n",
      "Y                                 1189822                     1189822   \n",
      "\n",
      "               61_weeks_back_NPP_npp_flag  47_weeks_back_NPP_npp_flag  \n",
      "purchase_flag                                                          \n",
      "N                                 8888226                     8888226  \n",
      "Y                                 1189822                     1189822  \n",
      "\n",
      "[2 rows x 449 columns]\n"
     ]
    }
   ],
   "source": [
    "logger.info(f\"Model features shape: {model_features_df.shape}\")\n",
    "logger.info(model_features_df.head())\n",
    "logger.info(model_features_df.groupby('purchase_flag').count())"
   ]
  },
  {
   "cell_type": "markdown",
   "id": "a535f025-2acc-4ae4-a195-0507a7a70393",
   "metadata": {},
   "source": [
    "### Feature Preprocessing"
   ]
  },
  {
   "cell_type": "code",
   "execution_count": null,
   "id": "5c68345a-3aa6-48a1-832b-2b7622480530",
   "metadata": {
    "tags": []
   },
   "outputs": [],
   "source": [
    "# =============================================\n",
    "# Prepare data for training\n",
    "# =============================================\n",
    "feature_cols = model_features_df.columns.drop([\"epsilon_id\", \"epcl_profileid\", \"lightfm_id\", \"user_id\", \"purchase_flag\", \"enroll_date\", \"register_date\", \"first_purchase_date\", \"last_purchase_date\"]).tolist()\n",
    "\n",
    "# Prepare X (features) and y (target)\n",
    "X = model_features_df[feature_cols]\n",
    "y = (model_features_df['purchase_flag'] == 'Y').astype(int)  # Convert to binary\n",
    "\n",
    "# Split data\n",
    "X_temp, X_test, y_temp, y_test = train_test_split(X, y, test_size=0.2, random_state=42, stratify=y)\n",
    "X_train, X_val, y_train, y_val = train_test_split(X_temp, y_temp, test_size=0.25, random_state=42, stratify=y_temp)\n",
    "\n",
    "# Detect binary and numeric columns\n",
    "column_vals = [\"weeks_back\", \"deal_season\"]\n",
    "binary_cols = []\n",
    "for column in X_train.columns:\n",
    "    if any (val in column for val in column_vals):\n",
    "        binary_cols.append(column)\n",
    "\n",
    "numeric_cols = [col for col in X_train.columns if col not in binary_cols]"
   ]
  },
  {
   "cell_type": "code",
   "execution_count": null,
   "id": "bd551b27-a55a-4e0a-b829-fd8c09ea6dda",
   "metadata": {
    "tags": []
   },
   "outputs": [
    {
     "name": "stdout",
     "output_type": "stream",
     "text": [
      "2025-10-21 21:57:07,069 - INFO - Training set size: 6046828\n",
      "2025-10-21 21:57:07,070 - INFO - Validation set size: 2015610\n",
      "2025-10-21 21:57:07,071 - INFO - Test set size: 2015610\n"
     ]
    }
   ],
   "source": [
    "preprocessor = ColumnTransformer([\n",
    "    ('num', StandardScaler(), numeric_cols),\n",
    "    ('bin', 'passthrough', binary_cols)\n",
    "])\n",
    "\n",
    "# Scale the training data\n",
    "X_train_scaled = preprocessor.fit_transform(X_train)\n",
    "\n",
    "# Scale validation and test data using the same parameters\n",
    "X_val_scaled = preprocessor.transform(X_val)\n",
    "X_test_scaled = preprocessor.transform(X_test)\n",
    "\n",
    "logger.info(f\"Training set size: {len(X_train)}\")\n",
    "logger.info(f\"Validation set size: {len(X_val)}\")\n",
    "logger.info(f\"Test set size: {len(X_test)}\")"
   ]
  },
  {
   "cell_type": "code",
   "execution_count": 80,
   "id": "7de89dc3-30b3-4c5e-8320-1741e5edb261",
   "metadata": {
    "tags": []
   },
   "outputs": [
    {
     "data": {
      "text/plain": [
       "2015610"
      ]
     },
     "execution_count": 80,
     "metadata": {},
     "output_type": "execute_result"
    }
   ],
   "source": []
  },
  {
   "cell_type": "code",
   "execution_count": null,
   "id": "714dc482-8ccf-404f-aafa-ba869b834293",
   "metadata": {
    "tags": []
   },
   "outputs": [
    {
     "name": "stdout",
     "output_type": "stream",
     "text": [
      "2025-10-21 21:57:07,133 - INFO - Class distribution in training set: {0: 5332935, 1: 713893}\n",
      "2025-10-21 21:57:07,134 - INFO - Scale pos weight for handling class imbalance: 7.470216124825429\n"
     ]
    }
   ],
   "source": [
    "# Calculate class weight for XGBoost and LightGBM\n",
    "scale_pos_weight = (y_train == 0).sum() / (y_train == 1).sum()\n",
    "logger.info(f\"Class distribution in training set: {y_train.value_counts().to_dict()}\")\n",
    "logger.info(f\"Scale pos weight for handling class imbalance: {scale_pos_weight}\")\n"
   ]
  },
  {
   "cell_type": "code",
   "execution_count": 30,
   "id": "81289cb7-9da1-4551-8ec2-d30a85deab3d",
   "metadata": {
    "tags": []
   },
   "outputs": [
    {
     "name": "stdout",
     "output_type": "stream",
     "text": [
      "MemTotal:       247413804 kB\n",
      "MemFree:        39734384 kB\n",
      "MemAvailable:   39159956 kB\n"
     ]
    }
   ],
   "source": [
    "!cat /proc/meminfo | grep Mem"
   ]
  },
  {
   "cell_type": "code",
   "execution_count": 31,
   "id": "9a2eef1e-b418-4eb0-94b3-afd2a48a8edd",
   "metadata": {
    "tags": []
   },
   "outputs": [
    {
     "data": {
      "text/plain": [
       "svmem(total=253351735296, available=40099414016, percent=84.2, used=211320668160, free=40687296512, active=486109184, inactive=211293798400, buffers=82460672, cached=1261309952, shared=917504, slab=208625664)"
      ]
     },
     "execution_count": 31,
     "metadata": {},
     "output_type": "execute_result"
    }
   ],
   "source": [
    "import psutil\n",
    "psutil.virtual_memory()"
   ]
  },
  {
   "cell_type": "code",
   "execution_count": 32,
   "id": "a0b2f27d-8604-4108-a382-f4e03e363a88",
   "metadata": {
    "tags": []
   },
   "outputs": [
    {
     "name": "stdout",
     "output_type": "stream",
     "text": [
      "Variable                           Type                 Data/Info\n",
      "-----------------------------------------------------------------\n",
      "CURRENT_WEEK_NUMBER                str                  2025_339\n",
      "ColumnTransformer                  ABCMeta              <class 'sklearn.compose._<...>ormer.ColumnTransformer'>\n",
      "LGBMClassifier                     type                 <class 'lightgbm.sklearn.LGBMClassifier'>\n",
      "PROJECT_PREFIX                     str                  it_\n",
      "StandardScaler                     type                 <class 'sklearn.preproces<...>ng._data.StandardScaler'>\n",
      "TARGET_WEEK_NUMBER                 str                  2025_337\n",
      "WEEK_NUMBER                        str                  2025_335\n",
      "X                                  DataFrame                      latent_0  laten<...>78048 rows x 441 columns]\n",
      "XGBClassifier                      type                 <class 'xgboost.sklearn.XGBClassifier'>\n",
      "X_temp                             DataFrame                     latent_0  latent<...>62438 rows x 441 columns]\n",
      "X_test                             DataFrame                     latent_0  latent<...>15610 rows x 441 columns]\n",
      "X_test_scaled                      ndarray              2015610x441: 888884010 elems, type `float64`, 7111072080 bytes (6781.64680480957 Mb)\n",
      "X_train                            DataFrame                      latent_0  laten<...>46828 rows x 441 columns]\n",
      "X_train_scaled                     ndarray              6046828x441: 2666651148 elems, type `float64`, 21333209184 bytes (20344.933685302734 Mb)\n",
      "X_val                              DataFrame                     latent_0  latent<...>15610 rows x 441 columns]\n",
      "X_val_scaled                       ndarray              2015610x441: 888884010 elems, type `float64`, 7111072080 bytes (6781.64680480957 Mb)\n",
      "a                                  list                 n=444\n",
      "b                                  list                 n=444\n",
      "bigquery                           module               <module 'google.cloud.big<...>ud/bigquery/__init__.py'>\n",
      "binary_cols                        list                 n=197\n",
      "bq_client                          Client               <google.cloud.bigquery.cl<...>object at 0x7f1b4b05bfa0>\n",
      "bq_project                         str                  dp-lore\n",
      "c                                  int                  7\n",
      "classification_report              function             <function classification_<...>report at 0x7f1b5f034550>\n",
      "column                             str                  47_weeks_back_NPP_npp_flag\n",
      "column_vals                        list                 n=2\n",
      "current_week_identifier            str                  2025_339\n",
      "customer_deal_season_final_pd_df   DataFrame                                     <...>1069719 rows x 8 columns]\n",
      "customer_deal_season_pd_df         DataFrame            deal_season_num          <...>1069719 rows x 8 columns]\n",
      "customer_history_ds                ParquetDataset       <pyarrow.parquet.core.Par<...>object at 0x7f1b4ae12e00>\n",
      "customer_history_final_df          DataFrame            week_identifier          <...>69719 rows x 105 columns]\n",
      "customer_history_pd_df             DataFrame                      week_identifier<...>7075399 rows x 3 columns]\n",
      "customer_history_pivoted_df        DataFrame            week_identifier          <...>69719 rows x 106 columns]\n",
      "customer_labels_ds                 ParquetDataset       <pyarrow.parquet.core.Par<...>object at 0x7f1b4ae293c0>\n",
      "customer_labels_pd_df              DataFrame                                     <...>1268506 rows x 4 columns]\n",
      "customer_point_profile             list                 n=200\n",
      "customer_point_profile_ds          ParquetDataset       <pyarrow.parquet.core.Par<...>object at 0x7f1b4ae13490>\n",
      "customer_point_profile_path        str                  gs://shoplikelihood_v4/ct<...>oint_profile_ctr_2025_335\n",
      "customer_point_profile_pd_df       DataFrame                     register_date en<...>359251 rows x 30 columns]\n",
      "customer_profile_summary_df        DataFrame                     register_date en<...>52596 rows x 161 columns]\n",
      "customer_purchase_history          list                 n=200\n",
      "customer_purchase_history_path     str                  gs://shoplikelihood_v4/ct<...>hase_history_ctr_2025_335\n",
      "customer_purchase_labels           list                 n=200\n",
      "customer_purchase_labels_path      str                  gs://shoplikelihood_v4/ct<...>chase_labels_ctr_2025_337\n",
      "customer_purchase_profile          list                 n=200\n",
      "customer_purchase_profile_ds       ParquetDataset       <pyarrow.parquet.core.Par<...>object at 0x7f1bfc63f730>\n",
      "customer_purchase_profile_path     str                  gs://shoplikelihood_v4/ct<...>hase_profile_ctr_2025_335\n",
      "customer_purchase_profile_pd_df    DataFrame                      total_purchases<...>337552 rows x 21 columns]\n",
      "datetime                           type                 <class 'datetime.datetime'>\n",
      "dump                               function             <function dump at 0x7f1b62186a70>\n",
      "early_stopping                     function             <function early_stopping at 0x7f1b5534e950>\n",
      "embedding_df                       DataFrame                      latent_0  laten<...>52048 rows x 203 columns]\n",
      "embedding_ds                       ParquetDataset       <pyarrow.parquet.core.Par<...>object at 0x7f1bfc63ff40>\n",
      "embeddings_files                   list                 n=40\n",
      "expit                              ufunc                <ufunc 'expit'>\n",
      "feature_cols                       list                 n=441\n",
      "fillna_median_cols                 list                 n=5\n",
      "fs                                 GCSFileSystem        <gcsfs.core.GCSFileSystem<...>object at 0x7f1b4b05b190>\n",
      "gcs_embeddings_output_path         str                  gs://shoplikelihood_v4/ct<...>r_embeddings_ctr_2025_335\n",
      "gcsfs                              module               <module 'gcsfs' from '/op<...>kages/gcsfs/__init__.py'>\n",
      "json                               module               <module 'json' from '/opt<...>on3.10/json/__init__.py'>\n",
      "last_year_week_identifier          str                  2024_335\n",
      "load_from_bigquery                 function             <function load_from_bigquery at 0x7f1b4ad749d0>\n",
      "load_reco_reference_df             function             <function load_reco_refer<...>nce_df at 0x7f1b4ad74940>\n",
      "logger                             Logger               <Logger __main__ (INFO)>\n",
      "logging                            module               <module 'logging' from '/<...>.10/logging/__init__.py'>\n",
      "model_features_df                  DataFrame                      latent_0  laten<...>78048 rows x 450 columns]\n",
      "model_features_path                str                  gs://shoplikelihood_v4/ct<...>025_339/0/output/features\n",
      "model_output_path                  str                  gs://shoplikelihood_v4/ct<...>/2025_339/0/output/model/\n",
      "model_performance_output_table     str                  shoplikelihood_v4.it_shop<...>od_test_model_performance\n",
      "new_cols                           list                 n=8\n",
      "np                                 module               <module 'numpy' from '/op<...>kages/numpy/__init__.py'>\n",
      "npp_history                        list                 n=84\n",
      "npp_history_ds                     ParquetDataset       <pyarrow.parquet.core.Par<...>object at 0x7f1b4a513c40>\n",
      "npp_history_path                   str                  gs://shoplikelihood_v4/ct<...>lihood_v4_npp_history_ctr\n",
      "npp_history_pd_df                  DataFrame                week_identifier  deal<...>\\n\\n[87 rows x 4 columns]\n",
      "npp_history_pivoted_df             DataFrame            week_identifier  53_weeks<...>\\n\\n[1 rows x 86 columns]\n",
      "numeric_cols                       list                 n=244\n",
      "os                                 module               <module 'os' from '/opt/c<...>da/lib/python3.10/os.py'>\n",
      "parquet                            module               <module 'pyarrow.parquet'<...>row/parquet/__init__.py'>\n",
      "partial                            type                 <class 'functools.partial'>\n",
      "pd                                 module               <module 'pandas' from '/o<...>ages/pandas/__init__.py'>\n",
      "precision_recall_curve             function             <function precision_recal<...>_curve at 0x7f1b5f037400>\n",
      "predictions_output_table           str                  shoplikelihood_v4.it_shop<...>test_predictions_2025_339\n",
      "preprocessor                       ColumnTransformer    ColumnTransformer(transfo<...>s_back_purchase', ...])])\n",
      "psutil                             module               <module 'psutil' from '/o<...>ages/psutil/__init__.py'>\n",
      "reco_reference_filtered            DataFrame                  start_date    end_d<...>\\n[1235 rows x 6 columns]\n",
      "reco_reference_pd                  DataFrame                  start_date    end_d<...>\\n[2557 rows x 6 columns]\n",
      "rename_pivot_columns               function             <function rename_pivot_columns at 0x7f1b4ad74a60>\n",
      "roc_auc_score                      function             <function roc_auc_score at 0x7f1b5f0371c0>\n",
      "scale_pos_weight                   float64              7.470216124825429\n",
      "shap                               module               <module 'shap' from '/opt<...>ckages/shap/__init__.py'>\n",
      "statistic_features_path            str                  gs://shoplikelihood_v4/ct<...>tic_features_ctr_2025_335\n",
      "sys                                module               <module 'sys' (built-in)>\n",
      "target_week_identifier             str                  2025_337\n",
      "time                               module               <module 'time' (built-in)>\n",
      "train_test_split                   function             <function train_test_split at 0x7f1b5f08b250>\n",
      "week_identifier                    str                  2025_335\n",
      "y                                  Series               0           1\\n1         <...>h: 10078048, dtype: int64\n",
      "y_temp                             Series               7405050    0\\n2326639    <...>th: 8062438, dtype: int64\n",
      "y_test                             Series               9370056    0\\n2271090    <...>th: 2015610, dtype: int64\n",
      "y_train                            Series               2435089     0\\n7539017   <...>th: 6046828, dtype: int64\n",
      "y_val                              Series               7006877    0\\n8333930    <...>th: 2015610, dtype: int64\n"
     ]
    }
   ],
   "source": [
    "%whos"
   ]
  },
  {
   "cell_type": "code",
   "execution_count": 39,
   "id": "90ad5324-38c2-4d24-8804-3b4cfa7fb045",
   "metadata": {
    "tags": []
   },
   "outputs": [
    {
     "name": "stdout",
     "output_type": "stream",
     "text": [
      "model_features_df              DataFrame              27987.03 MB\n",
      "X                              DataFrame              22989.93 MB\n",
      "X_train_scaled                 ndarray                20344.93 MB\n",
      "X_temp                         DataFrame              18391.94 MB\n",
      "X_train                        DataFrame              13793.96 MB\n",
      "X_val_scaled                   ndarray                 6781.65 MB\n",
      "X_test_scaled                  ndarray                 6781.65 MB\n",
      "X_test                         DataFrame               4597.99 MB\n",
      "X_val                          DataFrame               4597.99 MB\n",
      "customer_purchase_profile_pd_df DataFrame               4176.93 MB\n",
      "customer_deal_season_pd_df     DataFrame               1530.75 MB\n",
      "customer_deal_season_final_pd_df DataFrame               1530.75 MB\n",
      "customer_labels_pd_df          DataFrame                362.92 MB\n",
      "y                              Series                   153.78 MB\n",
      "y_temp                         Series                   123.02 MB\n"
     ]
    }
   ],
   "source": [
    "import sys\n",
    "try:\n",
    "    import pandas as pd\n",
    "except Exception:\n",
    "    pd = None\n",
    "try:\n",
    "    import numpy as np\n",
    "except Exception:\n",
    "    np = None\n",
    "\n",
    "def _sizeof(obj):\n",
    "    try:\n",
    "        if pd is not None and isinstance(obj, pd.DataFrame):\n",
    "            return obj.memory_usage(deep=True).sum()\n",
    "        if pd is not None and isinstance(obj, pd.Series):\n",
    "            return obj.memory_usage(deep=True)\n",
    "        if np is not None and isinstance(obj, np.ndarray):\n",
    "            return obj.nbytes\n",
    "        return sys.getsizeof(obj)\n",
    "    except Exception:\n",
    "        return 0\n",
    "\n",
    "def show_top_vars(n=15, skip_private=True):\n",
    "    # ✅ snapshot to avoid \"dictionary changed size during iteration\"\n",
    "    snap = {k: globals()[k] for k in list(globals().keys())}\n",
    "    rows = []\n",
    "    for name, obj in snap.items():\n",
    "        if skip_private and name.startswith('_'):\n",
    "            continue\n",
    "        size = _sizeof(obj)\n",
    "        rows.append((name, type(obj).__name__, size))\n",
    "    rows.sort(key=lambda x: x[2], reverse=True)\n",
    "    for name, typ, size in rows[:n]:\n",
    "        print(f\"{name:30s} {typ:20s} {size/1024**2:10.2f} MB\")\n",
    "\n",
    "show_top_vars()"
   ]
  },
  {
   "cell_type": "code",
   "execution_count": 21,
   "id": "dddd6134-24af-4bda-aea2-c313c0e8d2b4",
   "metadata": {
    "tags": []
   },
   "outputs": [],
   "source": [
    "# del customer_history_pd_df\n",
    "# del customer_profile_summary_df\n",
    "# del embedding_df                   \n",
    "# del customer_history_pivoted_df    \n",
    "# del customer_history_final_df \n",
    "# del customer_point_profile_pd_df   \n",
    "del customer_purchase_profile_pd_df\n",
    "del customer_deal_season_pd_df     \n",
    "del customer_deal_season_final_pd_df"
   ]
  },
  {
   "cell_type": "markdown",
   "id": "6b9ac9bf-baf7-4645-b57a-a5012956c9d0",
   "metadata": {},
   "source": [
    "### Modelling"
   ]
  },
  {
   "cell_type": "code",
   "execution_count": 22,
   "id": "28edfdf9-f0c1-453b-809a-1b4c695f1b8a",
   "metadata": {
    "tags": []
   },
   "outputs": [],
   "source": [
    "from lightgbm import LGBMClassifier\n",
    "from catboost import CatBoostClassifier\n",
    "from sklearn.ensemble import AdaBoostClassifier\n",
    "from sklearn.tree import DecisionTreeClassifier"
   ]
  },
  {
   "cell_type": "code",
   "execution_count": 23,
   "id": "15b93093-7668-4611-880a-89fa42269f61",
   "metadata": {
    "tags": []
   },
   "outputs": [],
   "source": [
    "# Initialize all models\n",
    "\n",
    "default_params = {\n",
    "    \"n_estimators\":500,\n",
    "    \"max_depth\":8,\n",
    "    \"learning_rate\":0.05,\n",
    "    \"subsample\":0.8,\n",
    "    \"colsample_bytree\":0.8,\n",
    "    \"scale_pos_weight\":scale_pos_weight,\n",
    "    \"tree_method\":'hist',\n",
    "    \"n_jobs\":-1,\n",
    "    \"random_state\":42\n",
    "    }   \n",
    "best_params = default_params\n",
    "\n",
    "models = {\n",
    "    'xgboost': XGBClassifier(**best_params\n",
    "    ),\n",
    "    'lightgbm': LGBMClassifier(\n",
    "        n_estimators=500,\n",
    "        max_depth=8,\n",
    "        learning_rate=0.05,\n",
    "        subsample=0.8,\n",
    "        colsample_bytree=0.8,\n",
    "        scale_pos_weight=scale_pos_weight,\n",
    "        random_state=42,\n",
    "        n_jobs=-1\n",
    "    ),\n",
    "    'catboost': CatBoostClassifier(\n",
    "        iterations=500,\n",
    "        depth=8,\n",
    "        learning_rate=0.05,\n",
    "        subsample=0.8,\n",
    "        scale_pos_weight=scale_pos_weight,\n",
    "        random_seed=42,\n",
    "        verbose=0  # Suppress CatBoost logs\n",
    "    ),\n",
    "\n",
    "}\n"
   ]
  },
  {
   "cell_type": "code",
   "execution_count": 25,
   "id": "cf396a20-1eee-4810-8e4d-2c70047163ba",
   "metadata": {
    "tags": []
   },
   "outputs": [
    {
     "name": "stdout",
     "output_type": "stream",
     "text": [
      "2025-10-21 22:20:06,260 - INFO - \n",
      "Evaluating xgboost...\n",
      "2025-10-21 22:20:06,261 - INFO - \n",
      "Training xgboost...\n",
      "\n",
      "xgboost Validation Set Metrics:\n",
      "              precision    recall  f1-score   support\n",
      "\n",
      "           0       0.95      0.70      0.81   1777645\n",
      "           1       0.25      0.75      0.37    237965\n",
      "\n",
      "    accuracy                           0.70   2015610\n",
      "   macro avg       0.60      0.72      0.59   2015610\n",
      "weighted avg       0.87      0.70      0.76   2015610\n",
      "\n",
      "Validation AUC-ROC: 0.8017\n",
      "\n",
      "xgboost Test Set Metrics:\n",
      "              precision    recall  f1-score   support\n",
      "\n",
      "           0       0.95      0.70      0.81   1777646\n",
      "           1       0.25      0.75      0.38    237964\n",
      "\n",
      "    accuracy                           0.71   2015610\n",
      "   macro avg       0.60      0.73      0.59   2015610\n",
      "weighted avg       0.87      0.71      0.76   2015610\n",
      "\n",
      "Test AUC-ROC: 0.8027\n",
      "2025-10-21 22:24:51,335 - INFO - \n",
      "Evaluating lightgbm...\n",
      "2025-10-21 22:24:51,336 - INFO - \n",
      "Training lightgbm...\n",
      "[LightGBM] [Info] Number of positive: 713893, number of negative: 5332935\n",
      "[LightGBM] [Info] Auto-choosing col-wise multi-threading, the overhead of testing was 5.251276 seconds.\n",
      "You can set `force_col_wise=true` to remove the overhead.\n",
      "[LightGBM] [Info] Total Bins 59929\n",
      "[LightGBM] [Info] Number of data points in the train set: 6046828, number of used features: 389\n",
      "[LightGBM] [Info] [binary:BoostFromScore]: pavg=0.118061 -> initscore=-2.010924\n",
      "[LightGBM] [Info] Start training from score -2.010924\n"
     ]
    },
    {
     "name": "stderr",
     "output_type": "stream",
     "text": [
      "/opt/conda/envs/tensorflow/lib/python3.10/site-packages/sklearn/utils/validation.py:2749: UserWarning: X does not have valid feature names, but LGBMClassifier was fitted with feature names\n",
      "  warnings.warn(\n",
      "/opt/conda/envs/tensorflow/lib/python3.10/site-packages/sklearn/utils/validation.py:2749: UserWarning: X does not have valid feature names, but LGBMClassifier was fitted with feature names\n",
      "  warnings.warn(\n"
     ]
    },
    {
     "name": "stdout",
     "output_type": "stream",
     "text": [
      "\n",
      "lightgbm Validation Set Metrics:\n",
      "              precision    recall  f1-score   support\n",
      "\n",
      "           0       0.96      0.69      0.80   1777645\n",
      "           1       0.25      0.76      0.37    237965\n",
      "\n",
      "    accuracy                           0.70   2015610\n",
      "   macro avg       0.60      0.72      0.59   2015610\n",
      "weighted avg       0.87      0.70      0.75   2015610\n",
      "\n",
      "Validation AUC-ROC: 0.8014\n"
     ]
    },
    {
     "name": "stderr",
     "output_type": "stream",
     "text": [
      "/opt/conda/envs/tensorflow/lib/python3.10/site-packages/sklearn/utils/validation.py:2749: UserWarning: X does not have valid feature names, but LGBMClassifier was fitted with feature names\n",
      "  warnings.warn(\n",
      "/opt/conda/envs/tensorflow/lib/python3.10/site-packages/sklearn/utils/validation.py:2749: UserWarning: X does not have valid feature names, but LGBMClassifier was fitted with feature names\n",
      "  warnings.warn(\n"
     ]
    },
    {
     "name": "stdout",
     "output_type": "stream",
     "text": [
      "\n",
      "lightgbm Test Set Metrics:\n",
      "              precision    recall  f1-score   support\n",
      "\n",
      "           0       0.96      0.69      0.80   1777646\n",
      "           1       0.25      0.76      0.37    237964\n",
      "\n",
      "    accuracy                           0.70   2015610\n",
      "   macro avg       0.60      0.72      0.59   2015610\n",
      "weighted avg       0.87      0.70      0.75   2015610\n",
      "\n",
      "Test AUC-ROC: 0.8025\n",
      "2025-10-21 22:27:46,824 - INFO - \n",
      "Evaluating catboost...\n",
      "2025-10-21 22:27:46,825 - INFO - \n",
      "Training catboost...\n",
      "\n",
      "catboost Validation Set Metrics:\n",
      "              precision    recall  f1-score   support\n",
      "\n",
      "           0       0.96      0.69      0.80   1777645\n",
      "           1       0.25      0.76      0.37    237965\n",
      "\n",
      "    accuracy                           0.70   2015610\n",
      "   macro avg       0.60      0.73      0.59   2015610\n",
      "weighted avg       0.87      0.70      0.75   2015610\n",
      "\n",
      "Validation AUC-ROC: 0.8025\n",
      "\n",
      "catboost Test Set Metrics:\n",
      "              precision    recall  f1-score   support\n",
      "\n",
      "           0       0.96      0.69      0.80   1777646\n",
      "           1       0.25      0.76      0.37    237964\n",
      "\n",
      "    accuracy                           0.70   2015610\n",
      "   macro avg       0.60      0.73      0.59   2015610\n",
      "weighted avg       0.87      0.70      0.75   2015610\n",
      "\n",
      "Test AUC-ROC: 0.8034\n"
     ]
    }
   ],
   "source": [
    "results = {}\n",
    "for model_name, model in models.items():\n",
    "    logger.info(f\"\\nEvaluating {model_name}...\")\n",
    "    results[model_name] = evaluate_classifier(\n",
    "        model, model_name, \n",
    "        X_train_scaled, X_val_scaled, X_test_scaled, \n",
    "        y_train, y_val, y_test\n",
    "    )\n"
   ]
  },
  {
   "cell_type": "markdown",
   "id": "07d6cf95-d114-42de-8553-2361e02afa31",
   "metadata": {},
   "source": [
    "### Model Selection"
   ]
  },
  {
   "cell_type": "code",
   "execution_count": 57,
   "id": "8ebc52cb-a3d7-4f81-9762-6c2bb9aef134",
   "metadata": {},
   "outputs": [
    {
     "name": "stdout",
     "output_type": "stream",
     "text": [
      "best model name: catboost\n"
     ]
    }
   ],
   "source": [
    "best_model_name = max(results.items(), key=lambda x: x[1]['val_auc'])[0]\n",
    "model = models[best_model_name]\n",
    "print(f\"best model name: {best_model_name}\")"
   ]
  },
  {
   "cell_type": "code",
   "execution_count": 72,
   "id": "ff8dd2a8-635a-4856-b6b2-33996711d127",
   "metadata": {
    "tags": []
   },
   "outputs": [
    {
     "data": {
      "text/html": [
       "<div>\n",
       "<style scoped>\n",
       "    .dataframe tbody tr th:only-of-type {\n",
       "        vertical-align: middle;\n",
       "    }\n",
       "\n",
       "    .dataframe tbody tr th {\n",
       "        vertical-align: top;\n",
       "    }\n",
       "\n",
       "    .dataframe thead th {\n",
       "        text-align: right;\n",
       "    }\n",
       "</style>\n",
       "<table border=\"1\" class=\"dataframe\">\n",
       "  <thead>\n",
       "    <tr style=\"text-align: right;\">\n",
       "      <th></th>\n",
       "      <th>actual</th>\n",
       "      <th>predicted</th>\n",
       "      <th>predicted_proba</th>\n",
       "    </tr>\n",
       "  </thead>\n",
       "  <tbody>\n",
       "    <tr>\n",
       "      <th>9370056</th>\n",
       "      <td>0</td>\n",
       "      <td>1</td>\n",
       "      <td>0.639301</td>\n",
       "    </tr>\n",
       "    <tr>\n",
       "      <th>2271090</th>\n",
       "      <td>0</td>\n",
       "      <td>0</td>\n",
       "      <td>0.263508</td>\n",
       "    </tr>\n",
       "    <tr>\n",
       "      <th>674182</th>\n",
       "      <td>0</td>\n",
       "      <td>1</td>\n",
       "      <td>0.536619</td>\n",
       "    </tr>\n",
       "    <tr>\n",
       "      <th>2943940</th>\n",
       "      <td>0</td>\n",
       "      <td>1</td>\n",
       "      <td>0.808269</td>\n",
       "    </tr>\n",
       "    <tr>\n",
       "      <th>2285230</th>\n",
       "      <td>0</td>\n",
       "      <td>1</td>\n",
       "      <td>0.623138</td>\n",
       "    </tr>\n",
       "    <tr>\n",
       "      <th>...</th>\n",
       "      <td>...</td>\n",
       "      <td>...</td>\n",
       "      <td>...</td>\n",
       "    </tr>\n",
       "    <tr>\n",
       "      <th>978776</th>\n",
       "      <td>0</td>\n",
       "      <td>1</td>\n",
       "      <td>0.686613</td>\n",
       "    </tr>\n",
       "    <tr>\n",
       "      <th>9293041</th>\n",
       "      <td>1</td>\n",
       "      <td>0</td>\n",
       "      <td>0.279727</td>\n",
       "    </tr>\n",
       "    <tr>\n",
       "      <th>3876180</th>\n",
       "      <td>0</td>\n",
       "      <td>0</td>\n",
       "      <td>0.028562</td>\n",
       "    </tr>\n",
       "    <tr>\n",
       "      <th>4766254</th>\n",
       "      <td>0</td>\n",
       "      <td>0</td>\n",
       "      <td>0.227240</td>\n",
       "    </tr>\n",
       "    <tr>\n",
       "      <th>1190522</th>\n",
       "      <td>1</td>\n",
       "      <td>1</td>\n",
       "      <td>0.894699</td>\n",
       "    </tr>\n",
       "  </tbody>\n",
       "</table>\n",
       "<p>2015610 rows × 3 columns</p>\n",
       "</div>"
      ],
      "text/plain": [
       "         actual  predicted  predicted_proba\n",
       "9370056       0          1         0.639301\n",
       "2271090       0          0         0.263508\n",
       "674182        0          1         0.536619\n",
       "2943940       0          1         0.808269\n",
       "2285230       0          1         0.623138\n",
       "...         ...        ...              ...\n",
       "978776        0          1         0.686613\n",
       "9293041       1          0         0.279727\n",
       "3876180       0          0         0.028562\n",
       "4766254       0          0         0.227240\n",
       "1190522       1          1         0.894699\n",
       "\n",
       "[2015610 rows x 3 columns]"
      ]
     },
     "execution_count": 72,
     "metadata": {},
     "output_type": "execute_result"
    }
   ],
   "source": [
    "results[best_model_name]['results_table']"
   ]
  },
  {
   "cell_type": "code",
   "execution_count": 100,
   "id": "41fcfa98-074d-4e11-9dca-2d8b9a13da6f",
   "metadata": {
    "tags": []
   },
   "outputs": [
    {
     "data": {
      "image/png": "[encoded data removed]",
      "text/plain": [
       "<Figure size 700x500 with 1 Axes>"
      ]
     },
     "metadata": {},
     "output_type": "display_data"
    }
   ],
   "source": [
    "import matplotlib.pyplot as plt\n",
    "from sklearn.metrics import roc_curve, roc_auc_score, precision_recall_curve, average_precision_score\n",
    "\n",
    "# Extract columns\n",
    "y_true = results[best_model_name]['results_table'][\"actual\"]\n",
    "y_score = results[best_model_name]['results_table'][\"predicted_proba\"]\n",
    "y_pred = results[best_model_name]['results_table'][\"predicted\"]\n",
    "\n",
    "# Compute precision, recall, thresholds\n",
    "fpr, tpr, thresholds = roc_curve(y_true, y_score)\n",
    "\n",
    "# Compute area under the PR curve (average precision)\n",
    "auc_roc = roc_auc_score(y_true, y_score)\n",
    "\n",
    "# Plot the curve\n",
    "plt.figure(figsize=(7,5))\n",
    "plt.plot(fpr, tpr, marker='.', label=f'AUC_ROC curve (AR={auc_roc:.3f})')\n",
    "plt.xlabel(\"False Positve Rate\")\n",
    "plt.ylabel(\"Recall\")\n",
    "plt.title(\"AUC_ROC Curve\")\n",
    "plt.legend()\n",
    "plt.grid(True)\n",
    "plt.show()"
   ]
  },
  {
   "cell_type": "code",
   "execution_count": 75,
   "id": "a8eca9df-812b-4428-90c9-6ec64b4282e7",
   "metadata": {
    "tags": []
   },
   "outputs": [
    {
     "data": {
      "image/png": "[encoded data removed]",
      "text/plain": [
       "<Figure size 700x500 with 1 Axes>"
      ]
     },
     "metadata": {},
     "output_type": "display_data"
    }
   ],
   "source": [
    "import matplotlib.pyplot as plt\n",
    "from sklearn.metrics import precision_recall_curve, average_precision_score\n",
    "\n",
    "# Extract columns\n",
    "y_true = results[best_model_name]['results_table'][\"actual\"]\n",
    "y_score = results[best_model_name]['results_table'][\"predicted_proba\"]\n",
    "\n",
    "# Compute precision, recall, thresholds\n",
    "precision, recall, thresholds = precision_recall_curve(y_true, y_score)\n",
    "\n",
    "# Compute area under the PR curve (average precision)\n",
    "avg_precision = average_precision_score(y_true, y_score)\n",
    "\n",
    "# Plot the curve\n",
    "plt.figure(figsize=(7,5))\n",
    "plt.plot(recall, precision, marker='.', label=f'PR curve (AP={avg_precision:.3f})')\n",
    "plt.xlabel(\"Recall\")\n",
    "plt.ylabel(\"Precision\")\n",
    "plt.title(\"Precision-Recall Curve\")\n",
    "plt.legend()\n",
    "plt.grid(True)\n",
    "plt.show()"
   ]
  },
  {
   "cell_type": "code",
   "execution_count": 104,
   "id": "a17e859b-03cd-4ab7-a120-12a916833607",
   "metadata": {
    "tags": []
   },
   "outputs": [
    {
     "data": {
      "image/png": "[encoded data removed]",
      "text/plain": [
       "<Figure size 640x480 with 2 Axes>"
      ]
     },
     "metadata": {},
     "output_type": "display_data"
    }
   ],
   "source": [
    "cm = confusion_matrix(y_true, y_pred)\n",
    "disp = ConfusionMatrixDisplay(confusion_matrix=cm, display_labels=[\"Negative (0)\", \"Positive (1)\"])\n",
    "disp.plot(cmap=\"Blues\", values_format=\"d\")\n",
    "plt.title(\"Confusion Matrix\")\n",
    "plt.show()\n"
   ]
  },
  {
   "cell_type": "code",
   "execution_count": 97,
   "id": "2dbdf09c-94b3-4b95-b287-48098972d4eb",
   "metadata": {
    "tags": []
   },
   "outputs": [
    {
     "data": {
      "image/png": "[encoded data removed]",
      "text/plain": [
       "<Figure size 800x600 with 1 Axes>"
      ]
     },
     "metadata": {},
     "output_type": "display_data"
    },
    {
     "data": {
      "text/html": [
       "<div>\n",
       "<style scoped>\n",
       "    .dataframe tbody tr th:only-of-type {\n",
       "        vertical-align: middle;\n",
       "    }\n",
       "\n",
       "    .dataframe tbody tr th {\n",
       "        vertical-align: top;\n",
       "    }\n",
       "\n",
       "    .dataframe thead th {\n",
       "        text-align: right;\n",
       "    }\n",
       "</style>\n",
       "<table border=\"1\" class=\"dataframe\">\n",
       "  <thead>\n",
       "    <tr style=\"text-align: right;\">\n",
       "      <th></th>\n",
       "      <th>threshold</th>\n",
       "      <th>precision</th>\n",
       "      <th>recall</th>\n",
       "      <th>f1</th>\n",
       "      <th>tp</th>\n",
       "      <th>fp</th>\n",
       "      <th>fn</th>\n",
       "      <th>tn</th>\n",
       "    </tr>\n",
       "  </thead>\n",
       "  <tbody>\n",
       "    <tr>\n",
       "      <th>0</th>\n",
       "      <td>0.2</td>\n",
       "      <td>0.161357</td>\n",
       "      <td>0.968180</td>\n",
       "      <td>0.276613</td>\n",
       "      <td>230392</td>\n",
       "      <td>1197451</td>\n",
       "      <td>7572</td>\n",
       "      <td>580195</td>\n",
       "    </tr>\n",
       "    <tr>\n",
       "      <th>1</th>\n",
       "      <td>0.3</td>\n",
       "      <td>0.182847</td>\n",
       "      <td>0.928884</td>\n",
       "      <td>0.305548</td>\n",
       "      <td>221041</td>\n",
       "      <td>987843</td>\n",
       "      <td>16923</td>\n",
       "      <td>789803</td>\n",
       "    </tr>\n",
       "    <tr>\n",
       "      <th>2</th>\n",
       "      <td>0.4</td>\n",
       "      <td>0.211013</td>\n",
       "      <td>0.861895</td>\n",
       "      <td>0.339024</td>\n",
       "      <td>205100</td>\n",
       "      <td>766880</td>\n",
       "      <td>32864</td>\n",
       "      <td>1010766</td>\n",
       "    </tr>\n",
       "    <tr>\n",
       "      <th>3</th>\n",
       "      <td>0.5</td>\n",
       "      <td>0.247310</td>\n",
       "      <td>0.763519</td>\n",
       "      <td>0.373606</td>\n",
       "      <td>181690</td>\n",
       "      <td>552975</td>\n",
       "      <td>56274</td>\n",
       "      <td>1224671</td>\n",
       "    </tr>\n",
       "    <tr>\n",
       "      <th>4</th>\n",
       "      <td>0.6</td>\n",
       "      <td>0.295935</td>\n",
       "      <td>0.623447</td>\n",
       "      <td>0.401356</td>\n",
       "      <td>148358</td>\n",
       "      <td>352961</td>\n",
       "      <td>89606</td>\n",
       "      <td>1424685</td>\n",
       "    </tr>\n",
       "    <tr>\n",
       "      <th>5</th>\n",
       "      <td>0.7</td>\n",
       "      <td>0.364513</td>\n",
       "      <td>0.439970</td>\n",
       "      <td>0.398703</td>\n",
       "      <td>104697</td>\n",
       "      <td>182527</td>\n",
       "      <td>133267</td>\n",
       "      <td>1595119</td>\n",
       "    </tr>\n",
       "    <tr>\n",
       "      <th>6</th>\n",
       "      <td>0.8</td>\n",
       "      <td>0.464532</td>\n",
       "      <td>0.237687</td>\n",
       "      <td>0.314470</td>\n",
       "      <td>56561</td>\n",
       "      <td>65198</td>\n",
       "      <td>181403</td>\n",
       "      <td>1712448</td>\n",
       "    </tr>\n",
       "    <tr>\n",
       "      <th>7</th>\n",
       "      <td>0.9</td>\n",
       "      <td>0.637611</td>\n",
       "      <td>0.062093</td>\n",
       "      <td>0.113166</td>\n",
       "      <td>14776</td>\n",
       "      <td>8398</td>\n",
       "      <td>223188</td>\n",
       "      <td>1769248</td>\n",
       "    </tr>\n",
       "  </tbody>\n",
       "</table>\n",
       "</div>"
      ],
      "text/plain": [
       "   threshold  precision    recall        f1      tp       fp      fn       tn\n",
       "0        0.2   0.161357  0.968180  0.276613  230392  1197451    7572   580195\n",
       "1        0.3   0.182847  0.928884  0.305548  221041   987843   16923   789803\n",
       "2        0.4   0.211013  0.861895  0.339024  205100   766880   32864  1010766\n",
       "3        0.5   0.247310  0.763519  0.373606  181690   552975   56274  1224671\n",
       "4        0.6   0.295935  0.623447  0.401356  148358   352961   89606  1424685\n",
       "5        0.7   0.364513  0.439970  0.398703  104697   182527  133267  1595119\n",
       "6        0.8   0.464532  0.237687  0.314470   56561    65198  181403  1712448\n",
       "7        0.9   0.637611  0.062093  0.113166   14776     8398  223188  1769248"
      ]
     },
     "metadata": {},
     "output_type": "display_data"
    }
   ],
   "source": [
    "\n",
    "# Extract columns\n",
    "y_true = np.asarray(results[best_model_name]['results_table'][\"actual\"], dtype=int)\n",
    "y_score = np.asarray(results[best_model_name]['results_table'][\"predicted_proba\"], dtype=float)\n",
    "\n",
    "# PR vs threshold\n",
    "prec, rec, thr = precision_recall_curve(y_true, y_score)           \n",
    "prec, rec = prec[:-1], rec[:-1]   # align to thr\n",
    "\n",
    "# F1 per threshold\n",
    "with np.errstate(divide=\"ignore\", invalid=\"ignore\"):\n",
    "    f1 = 2 * prec * rec / (prec + rec)\n",
    "    f1 = np.nan_to_num(f1)\n",
    "\n",
    "i_best = f1.argmax()\n",
    "t_f1   = thr[i_best]\n",
    "best_f1 = f1[i_best]\n",
    "\n",
    "# Plot data\n",
    "plt.figure(figsize=(8,6))\n",
    "plt.plot(thr, prec, label=\"Precision\")\n",
    "plt.plot(thr, rec,  label=\"Recall\")\n",
    "plt.axvline(t_f1, ls=\"--\", lw=1, label=f\"F1-max = {t_f1:.3f} (F1={best_f1:.3f})\")\n",
    "plt.xlabel(\"Threshold\"); plt.ylabel(\"Score\"); plt.title(\"Precision & Recall vs Threshold\")\n",
    "plt.grid(True); plt.legend(loc=\"center left\", bbox_to_anchor=(1,0.5)); plt.tight_layout()\n",
    "plt.show()\n",
    "\n",
    "# Threshold Detailed View\n",
    "chosen = np.array([0.2,0.3,0.4,0.5,0.6,0.7,0.8,0.9])\n",
    "Yhat   = (y_score[:, None] >= chosen).astype(int)         # shape (n_samples, n_thr)\n",
    "pos    = (y_true[:, None] == 1)\n",
    "neg    = ~pos\n",
    "\n",
    "tp = (Yhat & pos).sum(axis=0)\n",
    "fp = (Yhat & neg).sum(axis=0)\n",
    "fn = ((1 - Yhat) & pos).sum(axis=0)\n",
    "tn = ((1 - Yhat) & neg).sum(axis=0)\n",
    "\n",
    "with np.errstate(divide=\"ignore\", invalid=\"ignore\"):\n",
    "    p  = np.nan_to_num(tp / (tp + fp), nan=1.0)\n",
    "    r  = np.nan_to_num(tp / (tp + fn), nan=0.0)\n",
    "    f1c = np.nan_to_num(2 * p * r / (p + r))\n",
    "\n",
    "out = pd.DataFrame({\n",
    "    \"threshold\": chosen,\n",
    "    \"precision\": p, \"recall\": r, \"f1\": f1c,\n",
    "    \"tp\": tp, \"fp\": fp, \"fn\": fn, \"tn\": tn\n",
    "}).sort_values(\"threshold\")\n",
    "display(out)"
   ]
  },
  {
   "cell_type": "code",
   "execution_count": 92,
   "id": "e573a91b-dbf2-4e85-8e15-aec27d85b4e1",
   "metadata": {
    "tags": []
   },
   "outputs": [
    {
     "name": "stdout",
     "output_type": "stream",
     "text": [
      "2025-10-22 00:02:01,385 - INFO - \n",
      "Performing SHAP analysis for catboost...\n",
      "2025-10-22 00:02:06,838 - INFO - SHAP summary for class 1 (positive class):\n",
      "2025-10-22 00:02:06,851 - INFO - \n",
      "                          feature  mean_abs_shap_value\n",
      "313        35_weeks_back_purchase             0.479907\n",
      "237            sales_last_90_days             0.479899\n",
      "227  days_since_last_purchase_p25             0.479844\n",
      "337        11_weeks_back_purchase             0.479771\n",
      "308        40_weeks_back_purchase             0.479756\n",
      "309        39_weeks_back_purchase             0.479697\n",
      "261        87_weeks_back_purchase             0.479682\n",
      "239           sales_last_120_days             0.479681\n",
      "353             deal_season_num_6             0.479659\n",
      "328        20_weeks_back_purchase             0.479657\n",
      "257        91_weeks_back_purchase             0.479650\n",
      "349             deal_season_num_2             0.479648\n",
      "220     base_points_last_365_days             0.479647\n",
      "321        27_weeks_back_purchase             0.479643\n",
      "49                      latent_49             0.479637\n",
      "345         3_weeks_back_purchase             0.479629\n",
      "307        41_weeks_back_purchase             0.479616\n",
      "5                        latent_5             0.479616\n",
      "19                      latent_19             0.479613\n",
      "53                      latent_53             0.479613\n",
      "2025-10-22 00:02:06,852 - INFO - SHAP summary for class 0 (negative class):\n",
      "2025-10-22 00:02:06,864 - INFO - \n",
      "                                       feature  mean_abs_shap_value\n",
      "240             num_of_purchases_last_365_days             0.540484\n",
      "243                   days_since_last_purchase             0.534695\n",
      "226                            total_purchases             0.534666\n",
      "230               avg_days_since_last_purchase             0.530879\n",
      "238             num_of_purchases_last_120_days             0.528128\n",
      "209   total_loyalty_point_balance_last_60_days             0.526398\n",
      "214   total_loyalty_point_balance_last_90_days             0.524763\n",
      "231            stddev_days_since_last_purchase             0.524438\n",
      "236              num_of_purchases_last_90_days             0.524312\n",
      "352                          deal_season_num_5             0.523858\n",
      "229               days_since_last_purchase_p75             0.523570\n",
      "235                         sales_last_60_days             0.523059\n",
      "350                          deal_season_num_3             0.522889\n",
      "219  total_loyalty_point_balance_last_120_days             0.522856\n",
      "336                     12_weeks_back_purchase             0.522839\n",
      "241                        sales_last_365_days             0.522751\n",
      "347                      1_weeks_back_purchase             0.522578\n",
      "346                      2_weeks_back_purchase             0.522426\n",
      "234              num_of_purchases_last_60_days             0.522268\n",
      "224  total_loyalty_point_balance_last_365_days             0.522083\n"
     ]
    }
   ],
   "source": [
    "# Perform SHAP analysis for each model\n",
    "shap_summary_1, shap_summary_0 = shap_analysis(model, best_model_name, X_train_scaled, X_val_scaled, feature_cols)"
   ]
  },
  {
   "cell_type": "markdown",
   "id": "bb1894dc-dcf0-4c85-90fb-0d7369f03e27",
   "metadata": {},
   "source": [
    "### Save data"
   ]
  },
  {
   "cell_type": "code",
   "execution_count": 87,
   "id": "3023e4e6-ca6f-4f8c-ba64-198eae6c398c",
   "metadata": {
    "tags": []
   },
   "outputs": [],
   "source": [
    "_, sample_X, __, sample_y = train_test_split(X, y, test_size=0.02, random_state=42, stratify=y)\n",
    "sample_df = sample_X\n",
    "sample_df['purchase_flag'] = sample_y"
   ]
  },
  {
   "cell_type": "code",
   "execution_count": 88,
   "id": "b1aa76a8-ee63-46eb-b2f4-9a5f77a87ec2",
   "metadata": {
    "tags": []
   },
   "outputs": [
    {
     "data": {
      "text/plain": [
       "(201561, 201561)"
      ]
     },
     "execution_count": 88,
     "metadata": {},
     "output_type": "execute_result"
    }
   ],
   "source": [
    "len(sample_X), len(sample_y)"
   ]
  },
  {
   "cell_type": "code",
   "execution_count": 89,
   "id": "436222ba-3cd6-4a47-8413-26e73d854e48",
   "metadata": {
    "tags": []
   },
   "outputs": [],
   "source": [
    "del _\n",
    "del __"
   ]
  },
  {
   "cell_type": "code",
   "execution_count": 90,
   "id": "c3b142bb-60bb-41b0-b165-16becfee7bd1",
   "metadata": {
    "tags": []
   },
   "outputs": [],
   "source": [
    "sample_df.to_csv(\"data.csv\", index=False)"
   ]
  }
 ],
 "metadata": {
  "environment": {
   "kernel": "conda-env-tensorflow-tensorflow",
   "name": "workbench-notebooks.m131",
   "type": "gcloud",
   "uri": "us-docker.pkg.dev/deeplearning-platform-release/gcr.io/workbench-notebooks:m131"
  },
  "kernelspec": {
   "display_name": "TensorFlow 2-11 (Local)",
   "language": "python",
   "name": "conda-env-tensorflow-tensorflow"
  },
  "language_info": {
   "codemirror_mode": {
    "name": "ipython",
    "version": 3
   },
   "file_extension": ".py",
   "mimetype": "text/x-python",
   "name": "python",
   "nbconvert_exporter": "python",
   "pygments_lexer": "ipython3",
   "version": "3.10.18"
  }
 },
 "nbformat": 4,
 "nbformat_minor": 5
}
